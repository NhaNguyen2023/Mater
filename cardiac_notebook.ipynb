{
 "cells": [
  {
   "cell_type": "code",
   "execution_count": 202,
   "id": "44d4476c",
   "metadata": {},
   "outputs": [],
   "source": [
    "import os\n",
    "import pandas as pd\n",
    "from datetime import datetime, timedelta\n",
    "import matplotlib.pyplot as plt\n",
    "from scipy.stats import chi2_contingency, norm, bartlett, ttest_ind, pearsonr\n",
    "from statsmodels.formula.api import ols\n",
    "from statsmodels.stats.multicomp import MultiComparison\n",
    "from statsmodels.stats.anova import anova_lm\n",
    "import numpy as np\n",
    "import seaborn as sns"
   ]
  },
  {
   "cell_type": "code",
   "execution_count": 4,
   "id": "d675fcf5",
   "metadata": {},
   "outputs": [],
   "source": [
    "file_path = \"OT3 OT4 2019-2024June _noFilter.xlsx\"\n",
    "sheet_name = \"Data\"\n",
    "main = pd.read_excel(file_path, sheet_name=sheet_name)"
   ]
  },
  {
   "cell_type": "code",
   "execution_count": 5,
   "id": "af5f41a3",
   "metadata": {},
   "outputs": [
    {
     "name": "stdout",
     "output_type": "stream",
     "text": [
      "<class 'pandas.core.frame.DataFrame'>\n",
      "RangeIndex: 3426 entries, 0 to 3425\n",
      "Columns: 108 entries, Theatre to Start Finish Journey\n",
      "dtypes: float64(46), int64(10), object(52)\n",
      "memory usage: 2.8+ MB\n"
     ]
    }
   ],
   "source": [
    "main.info()"
   ]
  },
  {
   "cell_type": "code",
   "execution_count": 6,
   "id": "9921a691",
   "metadata": {},
   "outputs": [
    {
     "data": {
      "text/plain": [
       "0                       NaN\n",
       "1                       NaN\n",
       "2                       NaN\n",
       "3       2023/12/18 15:58:00\n",
       "4       2021/05/27 11:23:00\n",
       "               ...         \n",
       "3421    2020/02/28 09:56:00\n",
       "3422    2020/04/01 11:06:00\n",
       "3423    2023/04/20 06:15:00\n",
       "3424                    NaN\n",
       "3425    2022/05/16 09:46:00\n",
       "Name: Paint Draping Start DT, Length: 3426, dtype: object"
      ]
     },
     "execution_count": 6,
     "metadata": {},
     "output_type": "execute_result"
    }
   ],
   "source": [
    "main['Paint Draping Start DT']\n"
   ]
  },
  {
   "cell_type": "code",
   "execution_count": null,
   "id": "62b75425",
   "metadata": {},
   "outputs": [],
   "source": [
    "# Description of Cardio-Thoracic Surgery\n",
    "\n",
    "## Original data\n",
    "main.info()\n",
    "\n",
    "## Procedure Description values of original data\n",
    "print(sorted(main['ProcedureDescription'].unique()))"
   ]
  },
  {
   "cell_type": "code",
   "execution_count": 81,
   "id": "fb1f16f0",
   "metadata": {},
   "outputs": [],
   "source": [
    "cardiac_select = [\"AICD IMPLANT / REMOVAL\", \"AORTIC REPAIR/REPLACE ASC/ARCH/DESCEND\", \"AORTIC VALVE SURGERY\", \"ASD\", \"CABG\", \"Coronary artery bypass, using 1 LIMA graft\", \"Extracorporeal membrane oxygenation [ECMO]\", \"Insertion of left ventricular assist device\", \"Insertion of permanent epicardial electrode by tho\", \"LUNG TRANSPLANT\", \"MITRAL VALVE SURGERY\", \"Other intrathoracic procedures on heart with cardi\", \"PERICARDIAL WINDOW\", \"PULMONARY VALVE SURGERY\", \"Removal of sternal wire\", \"Repair of diaphragmatic hernia, thoracic approach\", \"RE-STERNOTOMY\", \"TRICUSPID VALVE SURGERY\", \"VENTRICULAR ASSIST DEVICE\"]"
   ]
  },
  {
   "cell_type": "code",
   "execution_count": 73,
   "id": "3e6b4fbc",
   "metadata": {},
   "outputs": [
    {
     "data": {
      "text/plain": [
       "22"
      ]
     },
     "execution_count": 73,
     "metadata": {},
     "output_type": "execute_result"
    }
   ],
   "source": [
    "(main['ProcedureDescription'] == cardiac_select[0]).sum()"
   ]
  },
  {
   "cell_type": "code",
   "execution_count": null,
   "id": "6b7d9c9e",
   "metadata": {},
   "outputs": [],
   "source": [
    "main['In Anaesthetic Room DT'] = main['In Anaesthetic Room DT'].fillna(main['In Operating Theatre DT'])\n",
    "main['Dressing Applied DT'] = main['Dressing Applied DT'].fillna(main['Patient Return Ward DT'])\n",
    "\n",
    "main['In Anaesthetic Room DT'] = pd.to_datetime(main['In Anaesthetic Room DT'])\n",
    "main['Dressing Applied DT'] = pd.to_datetime(main['Dressing Applied DT'])\n",
    "\n",
    "main['In Holding Bay DT'] = pd.to_datetime(main['In Holding Bay DT'])\n",
    "main['In Operating Theatre DT'] = pd.to_datetime(main['In Operating Theatre DT'])\n",
    "main['Anaesthetic Start DT'] = pd.to_datetime(main['Anaesthetic Start DT'])\n",
    "# main['Paint Draping Start DT'] = pd.to_datetime(main['Paint Draping Start DT'], format='mixed')\n",
    "main['Instrument To Skin DT'] = pd.to_datetime(main['Instrument To Skin DT'])\n",
    "main['Ready PACU Room DT'] = pd.to_datetime(main['Ready PACU Room DT'])\n",
    "main['Patient Return Ward DT'] = pd.to_datetime(main['Patient Return Ward DT'])\n",
    "main['Discharge DT'] = pd.to_datetime(main['Discharge DT'], format ='mixed')\n",
    "main['Send For Patient DT'] = pd.to_datetime(main['Send For Patient DT'])\n",
    "main['Patient Ready Depart PACU DT'] = pd.to_datetime(main['Patient Ready Depart PACU DT'])"
   ]
  },
  {
   "cell_type": "code",
   "execution_count": null,
   "id": "bf6e13e3",
   "metadata": {},
   "outputs": [],
   "source": [
    "main[startTime] = pd.to_datetime(main['In Anaesthetic Room DT']).dt.time\n",
    "main[dressingTime] = pd.to_datetime(main['Dressing Applied DT']).dt.time\n",
    "\n",
    "main[startLate] = np.where((main[TheatreDay].isin(['MON', 'TUE', 'THU', 'FRI'])) & (main[startTime].dt.hour * 3600 + main[startTime].dt.minute * 60 + main[startTime].dt.second - 29700 > 0), 1, \n",
    "                            np.where((main[TheatreDay] == 'WED') & (main[startTime].dt.hour * 3600 + main[startTime].dt.minute * 60 + main[startTime].dt.second - 32400 > 0), 1, 0))"
   ]
  },
  {
   "cell_type": "code",
   "execution_count": 82,
   "id": "a294b4cd",
   "metadata": {
    "scrolled": true
   },
   "outputs": [
    {
     "ename": "IndexError",
     "evalue": ".iloc requires numeric indexers, got ['FirstPatientInTheatre' 'ProcedureCode' 'ProcedureDescription'\n 'Admission DT' 'Referred PreOp Date' 'PreOp Date' 'Send For Patient DT'\n 'In Holding Bay DT' 'In Anaesthetic Room DT' 'Anaesthetic Start DT'\n 'In Operating Theatre DT' 'Paint Draping Start DT'\n 'Instrument To Skin DT' 'Dressing Applied DT' 'Ready PACU Room DT'\n 'In PACU DT' 'Patient Ready Depart PACU DT' 'Patient Ready ICUHDU DT'\n 'Patient Return Ward DT' 'Discharge DT' 'Discharge Home Time'\n 'EmergencyTMS' 'Theatre Month' 'EpisodeType' 'AdmitWard' 'TheatreDay'\n 'Theatre Year' 'Theatre Date' 'In Operating Theatre Flag'\n 'InPacu to ReadyICUHDU Flag' 'Patient Return to Ward Location'\n 'StartDelayReason1' 'StartDelayReason2' 'StartDelayReason3'\n 'UnderRunsReason1' 'UnderRunsReason2' 'UnderRunsReason3'\n 'EmergencyCategory' 'Robot Journey Flag' 'Console Docked DT'\n 'Console Commenced DT' 'Console Undocked DT' 'Console Docked Flag'\n 'Console Undocked Flag' 'ConsoleDocked to ConsoleCommenced Flag'\n 'ConsoleCommenced to ConsoleUndocked Flag' 'IP Discharge Destination'\n 'ED Discharge Destination' 'RIP Indicator' 'SOAGroup' 'SOA'\n 'EpisodeStatus' 'StartDelayTransDate' 'TeamSurgeon' 'Count PreOp'\n 'Procedure Wait Time (Days)' 'Pre-Op Notice (Days)'\n 'SendForPatient to InHoldingBay (Mins) Ave Yes'\n 'InHoldingBay to AnaesRoom (Mins) FlagYes' 'Anaes Wait (Mins)'\n 'AnaesStart to ReadyTfrTheatre (Mins) Ave Yes'\n 'AnaesStart to InOpTheatre (Mins) Ave In OT Yes'\n 'AnaesStart to ReadyTransferTheatre (Mins)'\n 'ReadyTransferTheatre to InOpTheatre (Mins)'\n 'InOpTheatre to PaintDrape (Mins) Ave Drape Yes'\n 'Theatre Wait (Mins) Ave Inst to skin and op Yes'\n 'PaintDrape to InstrToSkin (Mins) Ave Skin Yes'\n 'InstrToSkin to DressAppl (Mins) Ave Dressing Yes'\n 'DressAppl to ReadyPACU (Mins) Ave Ready Yes'\n 'ReadyDepartPacu to ReturnWard (mins) Ave'\n 'Referred Pre-Op to Pre-Op (Days)' 'Theatre Readmission Count'\n 'Theatre 1st Readmission Count' 'Theatre Readmission Days'\n 'Anaes Turnaround Time (Mins)'\n 'Surgical Turnaround Time (Mins) Ave Prev Dressing Yes' 'Count'\n 'No StartDelay Reason1' 'No StartDelay Reason2' 'No StartDelay Reason3'\n 'No UnderRun Reason1' 'No UnderRun Reason2' 'No UnderRun Reason3'\n 'Cases Docked and Undocked' 'ConsoleDocked to ConsoleCommenced (mins)'\n 'ConsoleCommenced to ConsoleUndocked (mins)' 'PreOP To In Theatre Hours'\n 'Anaes Turnaround Time (Mins) Ave In Anaes Room Yes' 'Count In PACU'\n 'Count IN PACU OOH No' 'Count IN PACU OOH Yes'\n 'Procedure Wait Time (Days) Average' 'Anaes Journey Average'\n 'Consultant Journey Average' 'Robot Journey Average'\n 'Theatre Journey Average' 'PACU Journey Average'\n 'Return to Ward Journey Average' 'Patient Journey Average'\n 'Ward Journey Average' 'Start Finish Journey']",
     "output_type": "error",
     "traceback": [
      "\u001b[1;31m---------------------------------------------------------------------------\u001b[0m",
      "\u001b[1;31mIndexError\u001b[0m                                Traceback (most recent call last)",
      "Cell \u001b[1;32mIn[82], line 5\u001b[0m\n\u001b[0;32m      3\u001b[0m main \u001b[38;5;241m=\u001b[39m pd\u001b[38;5;241m.\u001b[39mDataFrame(main)\n\u001b[0;32m      4\u001b[0m selected_columns \u001b[38;5;241m=\u001b[39m [col \u001b[38;5;28;01mfor\u001b[39;00m col \u001b[38;5;129;01min\u001b[39;00m main\u001b[38;5;241m.\u001b[39mcolumns \u001b[38;5;28;01mif\u001b[39;00m col \u001b[38;5;129;01mnot\u001b[39;00m \u001b[38;5;129;01min\u001b[39;00m [\u001b[38;5;124m'\u001b[39m\u001b[38;5;124mPatientName\u001b[39m\u001b[38;5;124m'\u001b[39m, \u001b[38;5;124m'\u001b[39m\u001b[38;5;124mEpisodeNumber\u001b[39m\u001b[38;5;124m'\u001b[39m, \u001b[38;5;124m'\u001b[39m\u001b[38;5;124mMRN\u001b[39m\u001b[38;5;124m'\u001b[39m, \u001b[38;5;124m'\u001b[39m\u001b[38;5;124mTheatre\u001b[39m\u001b[38;5;124m'\u001b[39m, \u001b[38;5;124m'\u001b[39m\u001b[38;5;124mWL Referral Date\u001b[39m\u001b[38;5;124m'\u001b[39m, \u001b[38;5;124m'\u001b[39m\u001b[38;5;124mSpecialty Description Mater\u001b[39m\u001b[38;5;124m'\u001b[39m, \u001b[38;5;124m'\u001b[39m\u001b[38;5;124mConsultant Name\u001b[39m\u001b[38;5;124m'\u001b[39m]]\n\u001b[1;32m----> 5\u001b[0m \u001b[38;5;28mprint\u001b[39m(pd\u001b[38;5;241m.\u001b[39mDataFrame(main\u001b[38;5;241m.\u001b[39miloc[:\u001b[38;5;241m10\u001b[39m, selected_columns])\u001b[38;5;241m.\u001b[39mto_markdown(caption\u001b[38;5;241m=\u001b[39m\u001b[38;5;124m'\u001b[39m\u001b[38;5;124mTable of cardiac selected data\u001b[39m\u001b[38;5;124m'\u001b[39m))\n",
      "File \u001b[1;32m~\\anaconda3\\Lib\\site-packages\\pandas\\core\\indexing.py:1097\u001b[0m, in \u001b[0;36m_LocationIndexer.__getitem__\u001b[1;34m(self, key)\u001b[0m\n\u001b[0;32m   1095\u001b[0m     \u001b[38;5;28;01mif\u001b[39;00m \u001b[38;5;28mself\u001b[39m\u001b[38;5;241m.\u001b[39m_is_scalar_access(key):\n\u001b[0;32m   1096\u001b[0m         \u001b[38;5;28;01mreturn\u001b[39;00m \u001b[38;5;28mself\u001b[39m\u001b[38;5;241m.\u001b[39mobj\u001b[38;5;241m.\u001b[39m_get_value(\u001b[38;5;241m*\u001b[39mkey, takeable\u001b[38;5;241m=\u001b[39m\u001b[38;5;28mself\u001b[39m\u001b[38;5;241m.\u001b[39m_takeable)\n\u001b[1;32m-> 1097\u001b[0m     \u001b[38;5;28;01mreturn\u001b[39;00m \u001b[38;5;28mself\u001b[39m\u001b[38;5;241m.\u001b[39m_getitem_tuple(key)\n\u001b[0;32m   1098\u001b[0m \u001b[38;5;28;01melse\u001b[39;00m:\n\u001b[0;32m   1099\u001b[0m     \u001b[38;5;66;03m# we by definition only have the 0th axis\u001b[39;00m\n\u001b[0;32m   1100\u001b[0m     axis \u001b[38;5;241m=\u001b[39m \u001b[38;5;28mself\u001b[39m\u001b[38;5;241m.\u001b[39maxis \u001b[38;5;129;01mor\u001b[39;00m \u001b[38;5;241m0\u001b[39m\n",
      "File \u001b[1;32m~\\anaconda3\\Lib\\site-packages\\pandas\\core\\indexing.py:1594\u001b[0m, in \u001b[0;36m_iLocIndexer._getitem_tuple\u001b[1;34m(self, tup)\u001b[0m\n\u001b[0;32m   1593\u001b[0m \u001b[38;5;28;01mdef\u001b[39;00m \u001b[38;5;21m_getitem_tuple\u001b[39m(\u001b[38;5;28mself\u001b[39m, tup: \u001b[38;5;28mtuple\u001b[39m):\n\u001b[1;32m-> 1594\u001b[0m     tup \u001b[38;5;241m=\u001b[39m \u001b[38;5;28mself\u001b[39m\u001b[38;5;241m.\u001b[39m_validate_tuple_indexer(tup)\n\u001b[0;32m   1595\u001b[0m     \u001b[38;5;28;01mwith\u001b[39;00m suppress(IndexingError):\n\u001b[0;32m   1596\u001b[0m         \u001b[38;5;28;01mreturn\u001b[39;00m \u001b[38;5;28mself\u001b[39m\u001b[38;5;241m.\u001b[39m_getitem_lowerdim(tup)\n",
      "File \u001b[1;32m~\\anaconda3\\Lib\\site-packages\\pandas\\core\\indexing.py:904\u001b[0m, in \u001b[0;36m_LocationIndexer._validate_tuple_indexer\u001b[1;34m(self, key)\u001b[0m\n\u001b[0;32m    902\u001b[0m \u001b[38;5;28;01mfor\u001b[39;00m i, k \u001b[38;5;129;01min\u001b[39;00m \u001b[38;5;28menumerate\u001b[39m(key):\n\u001b[0;32m    903\u001b[0m     \u001b[38;5;28;01mtry\u001b[39;00m:\n\u001b[1;32m--> 904\u001b[0m         \u001b[38;5;28mself\u001b[39m\u001b[38;5;241m.\u001b[39m_validate_key(k, i)\n\u001b[0;32m    905\u001b[0m     \u001b[38;5;28;01mexcept\u001b[39;00m \u001b[38;5;167;01mValueError\u001b[39;00m \u001b[38;5;28;01mas\u001b[39;00m err:\n\u001b[0;32m    906\u001b[0m         \u001b[38;5;28;01mraise\u001b[39;00m \u001b[38;5;167;01mValueError\u001b[39;00m(\n\u001b[0;32m    907\u001b[0m             \u001b[38;5;124m\"\u001b[39m\u001b[38;5;124mLocation based indexing can only have \u001b[39m\u001b[38;5;124m\"\u001b[39m\n\u001b[0;32m    908\u001b[0m             \u001b[38;5;124mf\u001b[39m\u001b[38;5;124m\"\u001b[39m\u001b[38;5;124m[\u001b[39m\u001b[38;5;132;01m{\u001b[39;00m\u001b[38;5;28mself\u001b[39m\u001b[38;5;241m.\u001b[39m_valid_types\u001b[38;5;132;01m}\u001b[39;00m\u001b[38;5;124m] types\u001b[39m\u001b[38;5;124m\"\u001b[39m\n\u001b[0;32m    909\u001b[0m         ) \u001b[38;5;28;01mfrom\u001b[39;00m \u001b[38;5;21;01merr\u001b[39;00m\n",
      "File \u001b[1;32m~\\anaconda3\\Lib\\site-packages\\pandas\\core\\indexing.py:1512\u001b[0m, in \u001b[0;36m_iLocIndexer._validate_key\u001b[1;34m(self, key, axis)\u001b[0m\n\u001b[0;32m   1510\u001b[0m \u001b[38;5;66;03m# check that the key has a numeric dtype\u001b[39;00m\n\u001b[0;32m   1511\u001b[0m \u001b[38;5;28;01mif\u001b[39;00m \u001b[38;5;129;01mnot\u001b[39;00m is_numeric_dtype(arr\u001b[38;5;241m.\u001b[39mdtype):\n\u001b[1;32m-> 1512\u001b[0m     \u001b[38;5;28;01mraise\u001b[39;00m \u001b[38;5;167;01mIndexError\u001b[39;00m(\u001b[38;5;124mf\u001b[39m\u001b[38;5;124m\"\u001b[39m\u001b[38;5;124m.iloc requires numeric indexers, got \u001b[39m\u001b[38;5;132;01m{\u001b[39;00marr\u001b[38;5;132;01m}\u001b[39;00m\u001b[38;5;124m\"\u001b[39m)\n\u001b[0;32m   1514\u001b[0m \u001b[38;5;66;03m# check that the key does not exceed the maximum size of the index\u001b[39;00m\n\u001b[0;32m   1515\u001b[0m \u001b[38;5;28;01mif\u001b[39;00m \u001b[38;5;28mlen\u001b[39m(arr) \u001b[38;5;129;01mand\u001b[39;00m (arr\u001b[38;5;241m.\u001b[39mmax() \u001b[38;5;241m>\u001b[39m\u001b[38;5;241m=\u001b[39m len_axis \u001b[38;5;129;01mor\u001b[39;00m arr\u001b[38;5;241m.\u001b[39mmin() \u001b[38;5;241m<\u001b[39m \u001b[38;5;241m-\u001b[39mlen_axis):\n",
      "\u001b[1;31mIndexError\u001b[0m: .iloc requires numeric indexers, got ['FirstPatientInTheatre' 'ProcedureCode' 'ProcedureDescription'\n 'Admission DT' 'Referred PreOp Date' 'PreOp Date' 'Send For Patient DT'\n 'In Holding Bay DT' 'In Anaesthetic Room DT' 'Anaesthetic Start DT'\n 'In Operating Theatre DT' 'Paint Draping Start DT'\n 'Instrument To Skin DT' 'Dressing Applied DT' 'Ready PACU Room DT'\n 'In PACU DT' 'Patient Ready Depart PACU DT' 'Patient Ready ICUHDU DT'\n 'Patient Return Ward DT' 'Discharge DT' 'Discharge Home Time'\n 'EmergencyTMS' 'Theatre Month' 'EpisodeType' 'AdmitWard' 'TheatreDay'\n 'Theatre Year' 'Theatre Date' 'In Operating Theatre Flag'\n 'InPacu to ReadyICUHDU Flag' 'Patient Return to Ward Location'\n 'StartDelayReason1' 'StartDelayReason2' 'StartDelayReason3'\n 'UnderRunsReason1' 'UnderRunsReason2' 'UnderRunsReason3'\n 'EmergencyCategory' 'Robot Journey Flag' 'Console Docked DT'\n 'Console Commenced DT' 'Console Undocked DT' 'Console Docked Flag'\n 'Console Undocked Flag' 'ConsoleDocked to ConsoleCommenced Flag'\n 'ConsoleCommenced to ConsoleUndocked Flag' 'IP Discharge Destination'\n 'ED Discharge Destination' 'RIP Indicator' 'SOAGroup' 'SOA'\n 'EpisodeStatus' 'StartDelayTransDate' 'TeamSurgeon' 'Count PreOp'\n 'Procedure Wait Time (Days)' 'Pre-Op Notice (Days)'\n 'SendForPatient to InHoldingBay (Mins) Ave Yes'\n 'InHoldingBay to AnaesRoom (Mins) FlagYes' 'Anaes Wait (Mins)'\n 'AnaesStart to ReadyTfrTheatre (Mins) Ave Yes'\n 'AnaesStart to InOpTheatre (Mins) Ave In OT Yes'\n 'AnaesStart to ReadyTransferTheatre (Mins)'\n 'ReadyTransferTheatre to InOpTheatre (Mins)'\n 'InOpTheatre to PaintDrape (Mins) Ave Drape Yes'\n 'Theatre Wait (Mins) Ave Inst to skin and op Yes'\n 'PaintDrape to InstrToSkin (Mins) Ave Skin Yes'\n 'InstrToSkin to DressAppl (Mins) Ave Dressing Yes'\n 'DressAppl to ReadyPACU (Mins) Ave Ready Yes'\n 'ReadyDepartPacu to ReturnWard (mins) Ave'\n 'Referred Pre-Op to Pre-Op (Days)' 'Theatre Readmission Count'\n 'Theatre 1st Readmission Count' 'Theatre Readmission Days'\n 'Anaes Turnaround Time (Mins)'\n 'Surgical Turnaround Time (Mins) Ave Prev Dressing Yes' 'Count'\n 'No StartDelay Reason1' 'No StartDelay Reason2' 'No StartDelay Reason3'\n 'No UnderRun Reason1' 'No UnderRun Reason2' 'No UnderRun Reason3'\n 'Cases Docked and Undocked' 'ConsoleDocked to ConsoleCommenced (mins)'\n 'ConsoleCommenced to ConsoleUndocked (mins)' 'PreOP To In Theatre Hours'\n 'Anaes Turnaround Time (Mins) Ave In Anaes Room Yes' 'Count In PACU'\n 'Count IN PACU OOH No' 'Count IN PACU OOH Yes'\n 'Procedure Wait Time (Days) Average' 'Anaes Journey Average'\n 'Consultant Journey Average' 'Robot Journey Average'\n 'Theatre Journey Average' 'PACU Journey Average'\n 'Return to Ward Journey Average' 'Patient Journey Average'\n 'Ward Journey Average' 'Start Finish Journey']"
     ]
    }
   ],
   "source": [
    "main = main.astype({col: 'category' for col in main.select_dtypes('object').columns})\n",
    "\n",
    "main = pd.DataFrame(main)\n",
    "selected_columns = [col for col in main.columns if col not in ['PatientName', 'EpisodeNumber', 'MRN', 'Theatre', 'WL Referral Date', 'Specialty Description Mater', 'Consultant Name']]\n",
    "print(pd.DataFrame(main.iloc[:10, selected_columns]).to_markdown(caption='Table of cardiac selected data'))"
   ]
  },
  {
   "cell_type": "code",
   "execution_count": 25,
   "id": "a78ff0b4",
   "metadata": {},
   "outputs": [
    {
     "data": {
      "text/plain": [
       "11"
      ]
     },
     "execution_count": 25,
     "metadata": {},
     "output_type": "execute_result"
    }
   ],
   "source": [
    "len(\"2020/08/18 \")"
   ]
  },
  {
   "cell_type": "code",
   "execution_count": 27,
   "id": "404c387b",
   "metadata": {},
   "outputs": [
    {
     "data": {
      "text/plain": [
       "'2020/08/18 '"
      ]
     },
     "execution_count": 27,
     "metadata": {},
     "output_type": "execute_result"
    }
   ],
   "source": [
    "'2020/08/18 24:00:00'[:11]"
   ]
  },
  {
   "cell_type": "code",
   "execution_count": 28,
   "id": "df5cb95b",
   "metadata": {},
   "outputs": [
    {
     "data": {
      "text/plain": [
       "':00:00'"
      ]
     },
     "execution_count": 28,
     "metadata": {},
     "output_type": "execute_result"
    }
   ],
   "source": [
    "'2020/08/18 24:00:00'[13:]"
   ]
  },
  {
   "cell_type": "code",
   "execution_count": 29,
   "id": "f3d359a5",
   "metadata": {},
   "outputs": [
    {
     "data": {
      "text/plain": [
       "'24'"
      ]
     },
     "execution_count": 29,
     "metadata": {},
     "output_type": "execute_result"
    }
   ],
   "source": [
    "'2020/08/18 24:00:00'[11:13]"
   ]
  },
  {
   "cell_type": "code",
   "execution_count": 31,
   "id": "f3f691b4",
   "metadata": {},
   "outputs": [
    {
     "data": {
      "text/plain": [
       "0       2021/10/15 11:34:00\n",
       "1       2023/02/20 16:31:00\n",
       "2       2024/03/28 17:08:00\n",
       "3       2023/12/19 19:00:00\n",
       "4       2021/05/27 16:37:00\n",
       "               ...         \n",
       "3421    2020/04/29 14:54:00\n",
       "3422    2020/04/29 14:54:00\n",
       "3423    2023/06/29 15:26:00\n",
       "3424    2021/05/13 18:58:00\n",
       "3425    2022/05/25 09:57:00\n",
       "Name: Discharge DT, Length: 3426, dtype: object"
      ]
     },
     "execution_count": 31,
     "metadata": {},
     "output_type": "execute_result"
    }
   ],
   "source": [
    "main['Discharge DT']"
   ]
  },
  {
   "cell_type": "code",
   "execution_count": 55,
   "id": "f300e887",
   "metadata": {},
   "outputs": [
    {
     "ename": "TypeError",
     "evalue": "'bool' object is not subscriptable",
     "output_type": "error",
     "traceback": [
      "\u001b[1;31m---------------------------------------------------------------------------\u001b[0m",
      "\u001b[1;31mTypeError\u001b[0m                                 Traceback (most recent call last)",
      "Cell \u001b[1;32mIn[55], line 1\u001b[0m\n\u001b[1;32m----> 1\u001b[0m main[\u001b[38;5;124m'\u001b[39m\u001b[38;5;124mDischarge DT\u001b[39m\u001b[38;5;124m'\u001b[39m]\u001b[38;5;241m.\u001b[39mapply(pd\u001b[38;5;241m.\u001b[39mnotna)\u001b[38;5;241m.\u001b[39mapply(\u001b[38;5;28;01mlambda\u001b[39;00m x: x[:\u001b[38;5;241m11\u001b[39m] \u001b[38;5;241m+\u001b[39m \u001b[38;5;124m'\u001b[39m\u001b[38;5;124m00\u001b[39m\u001b[38;5;124m'\u001b[39m \u001b[38;5;241m+\u001b[39m x[\u001b[38;5;241m13\u001b[39m:] \u001b[38;5;28;01mif\u001b[39;00m x[\u001b[38;5;241m11\u001b[39m:\u001b[38;5;241m13\u001b[39m] \u001b[38;5;241m==\u001b[39m \u001b[38;5;124m'\u001b[39m\u001b[38;5;124m24\u001b[39m\u001b[38;5;124m'\u001b[39m \u001b[38;5;28;01melse\u001b[39;00m x)\n",
      "File \u001b[1;32m~\\anaconda3\\Lib\\site-packages\\pandas\\core\\series.py:4630\u001b[0m, in \u001b[0;36mSeries.apply\u001b[1;34m(self, func, convert_dtype, args, **kwargs)\u001b[0m\n\u001b[0;32m   4520\u001b[0m \u001b[38;5;28;01mdef\u001b[39;00m \u001b[38;5;21mapply\u001b[39m(\n\u001b[0;32m   4521\u001b[0m     \u001b[38;5;28mself\u001b[39m,\n\u001b[0;32m   4522\u001b[0m     func: AggFuncType,\n\u001b[1;32m   (...)\u001b[0m\n\u001b[0;32m   4525\u001b[0m     \u001b[38;5;241m*\u001b[39m\u001b[38;5;241m*\u001b[39mkwargs,\n\u001b[0;32m   4526\u001b[0m ) \u001b[38;5;241m-\u001b[39m\u001b[38;5;241m>\u001b[39m DataFrame \u001b[38;5;241m|\u001b[39m Series:\n\u001b[0;32m   4527\u001b[0m \u001b[38;5;250m    \u001b[39m\u001b[38;5;124;03m\"\"\"\u001b[39;00m\n\u001b[0;32m   4528\u001b[0m \u001b[38;5;124;03m    Invoke function on values of Series.\u001b[39;00m\n\u001b[0;32m   4529\u001b[0m \n\u001b[1;32m   (...)\u001b[0m\n\u001b[0;32m   4628\u001b[0m \u001b[38;5;124;03m    dtype: float64\u001b[39;00m\n\u001b[0;32m   4629\u001b[0m \u001b[38;5;124;03m    \"\"\"\u001b[39;00m\n\u001b[1;32m-> 4630\u001b[0m     \u001b[38;5;28;01mreturn\u001b[39;00m SeriesApply(\u001b[38;5;28mself\u001b[39m, func, convert_dtype, args, kwargs)\u001b[38;5;241m.\u001b[39mapply()\n",
      "File \u001b[1;32m~\\anaconda3\\Lib\\site-packages\\pandas\\core\\apply.py:1025\u001b[0m, in \u001b[0;36mSeriesApply.apply\u001b[1;34m(self)\u001b[0m\n\u001b[0;32m   1022\u001b[0m     \u001b[38;5;28;01mreturn\u001b[39;00m \u001b[38;5;28mself\u001b[39m\u001b[38;5;241m.\u001b[39mapply_str()\n\u001b[0;32m   1024\u001b[0m \u001b[38;5;66;03m# self.f is Callable\u001b[39;00m\n\u001b[1;32m-> 1025\u001b[0m \u001b[38;5;28;01mreturn\u001b[39;00m \u001b[38;5;28mself\u001b[39m\u001b[38;5;241m.\u001b[39mapply_standard()\n",
      "File \u001b[1;32m~\\anaconda3\\Lib\\site-packages\\pandas\\core\\apply.py:1076\u001b[0m, in \u001b[0;36mSeriesApply.apply_standard\u001b[1;34m(self)\u001b[0m\n\u001b[0;32m   1074\u001b[0m     \u001b[38;5;28;01melse\u001b[39;00m:\n\u001b[0;32m   1075\u001b[0m         values \u001b[38;5;241m=\u001b[39m obj\u001b[38;5;241m.\u001b[39mastype(\u001b[38;5;28mobject\u001b[39m)\u001b[38;5;241m.\u001b[39m_values\n\u001b[1;32m-> 1076\u001b[0m         mapped \u001b[38;5;241m=\u001b[39m lib\u001b[38;5;241m.\u001b[39mmap_infer(\n\u001b[0;32m   1077\u001b[0m             values,\n\u001b[0;32m   1078\u001b[0m             f,\n\u001b[0;32m   1079\u001b[0m             convert\u001b[38;5;241m=\u001b[39m\u001b[38;5;28mself\u001b[39m\u001b[38;5;241m.\u001b[39mconvert_dtype,\n\u001b[0;32m   1080\u001b[0m         )\n\u001b[0;32m   1082\u001b[0m \u001b[38;5;28;01mif\u001b[39;00m \u001b[38;5;28mlen\u001b[39m(mapped) \u001b[38;5;129;01mand\u001b[39;00m \u001b[38;5;28misinstance\u001b[39m(mapped[\u001b[38;5;241m0\u001b[39m], ABCSeries):\n\u001b[0;32m   1083\u001b[0m     \u001b[38;5;66;03m# GH#43986 Need to do list(mapped) in order to get treated as nested\u001b[39;00m\n\u001b[0;32m   1084\u001b[0m     \u001b[38;5;66;03m#  See also GH#25959 regarding EA support\u001b[39;00m\n\u001b[0;32m   1085\u001b[0m     \u001b[38;5;28;01mreturn\u001b[39;00m obj\u001b[38;5;241m.\u001b[39m_constructor_expanddim(\u001b[38;5;28mlist\u001b[39m(mapped), index\u001b[38;5;241m=\u001b[39mobj\u001b[38;5;241m.\u001b[39mindex)\n",
      "File \u001b[1;32m~\\anaconda3\\Lib\\site-packages\\pandas\\_libs\\lib.pyx:2834\u001b[0m, in \u001b[0;36mpandas._libs.lib.map_infer\u001b[1;34m()\u001b[0m\n",
      "Cell \u001b[1;32mIn[55], line 1\u001b[0m, in \u001b[0;36m<lambda>\u001b[1;34m(x)\u001b[0m\n\u001b[1;32m----> 1\u001b[0m main[\u001b[38;5;124m'\u001b[39m\u001b[38;5;124mDischarge DT\u001b[39m\u001b[38;5;124m'\u001b[39m]\u001b[38;5;241m.\u001b[39mapply(pd\u001b[38;5;241m.\u001b[39mnotna)\u001b[38;5;241m.\u001b[39mapply(\u001b[38;5;28;01mlambda\u001b[39;00m x: x[:\u001b[38;5;241m11\u001b[39m] \u001b[38;5;241m+\u001b[39m \u001b[38;5;124m'\u001b[39m\u001b[38;5;124m00\u001b[39m\u001b[38;5;124m'\u001b[39m \u001b[38;5;241m+\u001b[39m x[\u001b[38;5;241m13\u001b[39m:] \u001b[38;5;28;01mif\u001b[39;00m x[\u001b[38;5;241m11\u001b[39m:\u001b[38;5;241m13\u001b[39m] \u001b[38;5;241m==\u001b[39m \u001b[38;5;124m'\u001b[39m\u001b[38;5;124m24\u001b[39m\u001b[38;5;124m'\u001b[39m \u001b[38;5;28;01melse\u001b[39;00m x)\n",
      "\u001b[1;31mTypeError\u001b[0m: 'bool' object is not subscriptable"
     ]
    }
   ],
   "source": [
    "# main['Discharge DT'].apply(pd.notna).apply(lambda x: x[:11] + '00' + x[13:] if x[11:13] == '24' else x)"
   ]
  },
  {
   "cell_type": "code",
   "execution_count": 76,
   "id": "48e7d05d",
   "metadata": {},
   "outputs": [],
   "source": [
    "# main['Discharge DT'].apply(lambda x: x[:11] + '00' + x[13:] if x[11:13] == '24' and pd.notna(x) else x)"
   ]
  },
  {
   "cell_type": "code",
   "execution_count": 21,
   "id": "130890cf",
   "metadata": {},
   "outputs": [
    {
     "data": {
      "text/plain": [
       "'2020/07/22 09:51:00'"
      ]
     },
     "execution_count": 21,
     "metadata": {},
     "output_type": "execute_result"
    }
   ],
   "source": [
    "main['Paint Draping Start DT'][2564]"
   ]
  },
  {
   "cell_type": "code",
   "execution_count": 70,
   "id": "9891dded",
   "metadata": {},
   "outputs": [],
   "source": [
    "# _ = main\n",
    "# for col in cardiac_select:\n",
    "#     _ = _[_['ProcedureDescription'] == col]"
   ]
  },
  {
   "cell_type": "code",
   "execution_count": 75,
   "id": "fc6a56f1",
   "metadata": {
    "scrolled": true
   },
   "outputs": [
    {
     "data": {
      "text/html": [
       "<div>\n",
       "<style scoped>\n",
       "    .dataframe tbody tr th:only-of-type {\n",
       "        vertical-align: middle;\n",
       "    }\n",
       "\n",
       "    .dataframe tbody tr th {\n",
       "        vertical-align: top;\n",
       "    }\n",
       "\n",
       "    .dataframe thead th {\n",
       "        text-align: right;\n",
       "    }\n",
       "</style>\n",
       "<table border=\"1\" class=\"dataframe\">\n",
       "  <thead>\n",
       "    <tr style=\"text-align: right;\">\n",
       "      <th></th>\n",
       "      <th>Theatre</th>\n",
       "      <th>Specialty Description Mater</th>\n",
       "      <th>FirstPatientInTheatre</th>\n",
       "      <th>ProcedureCode</th>\n",
       "      <th>ProcedureDescription</th>\n",
       "      <th>Consultant Name</th>\n",
       "      <th>WL Referral Date</th>\n",
       "      <th>Admission DT</th>\n",
       "      <th>Referred PreOp Date</th>\n",
       "      <th>PreOp Date</th>\n",
       "      <th>...</th>\n",
       "      <th>Procedure Wait Time (Days) Average</th>\n",
       "      <th>Anaes Journey Average</th>\n",
       "      <th>Consultant Journey Average</th>\n",
       "      <th>Robot Journey Average</th>\n",
       "      <th>Theatre Journey Average</th>\n",
       "      <th>PACU Journey Average</th>\n",
       "      <th>Return to Ward Journey Average</th>\n",
       "      <th>Patient Journey Average</th>\n",
       "      <th>Ward Journey Average</th>\n",
       "      <th>Start Finish Journey</th>\n",
       "    </tr>\n",
       "  </thead>\n",
       "  <tbody>\n",
       "    <tr>\n",
       "      <th>359</th>\n",
       "      <td>T03-Theatre 3</td>\n",
       "      <td>Cardio-Thoracic Surgery</td>\n",
       "      <td>0</td>\n",
       "      <td>MHCT005</td>\n",
       "      <td>AORTIC REPAIR/REPLACE ASC/ARCH/DESCEND</td>\n",
       "      <td>CTS</td>\n",
       "      <td>NaN</td>\n",
       "      <td>2020/03/03 22:44:00</td>\n",
       "      <td>NaN</td>\n",
       "      <td>NaN</td>\n",
       "      <td>...</td>\n",
       "      <td>0</td>\n",
       "      <td>NaN</td>\n",
       "      <td>NaN</td>\n",
       "      <td>NaN</td>\n",
       "      <td>NaN</td>\n",
       "      <td>NaN</td>\n",
       "      <td>NaN</td>\n",
       "      <td>NaN</td>\n",
       "      <td>NaN</td>\n",
       "      <td>NaN</td>\n",
       "    </tr>\n",
       "    <tr>\n",
       "      <th>360</th>\n",
       "      <td>T03-Theatre 3</td>\n",
       "      <td>Cardio-Thoracic Surgery</td>\n",
       "      <td>0</td>\n",
       "      <td>MHCT005</td>\n",
       "      <td>AORTIC REPAIR/REPLACE ASC/ARCH/DESCEND</td>\n",
       "      <td>CTS</td>\n",
       "      <td>NaN</td>\n",
       "      <td>2021/04/08 15:36:00</td>\n",
       "      <td>2021/02/16</td>\n",
       "      <td>2021/02/26</td>\n",
       "      <td>...</td>\n",
       "      <td>0</td>\n",
       "      <td>NaN</td>\n",
       "      <td>NaN</td>\n",
       "      <td>NaN</td>\n",
       "      <td>NaN</td>\n",
       "      <td>NaN</td>\n",
       "      <td>NaN</td>\n",
       "      <td>NaN</td>\n",
       "      <td>NaN</td>\n",
       "      <td>NaN</td>\n",
       "    </tr>\n",
       "    <tr>\n",
       "      <th>361</th>\n",
       "      <td>T03-Theatre 3</td>\n",
       "      <td>Cardio-Thoracic Surgery</td>\n",
       "      <td>0</td>\n",
       "      <td>MHCT005</td>\n",
       "      <td>AORTIC REPAIR/REPLACE ASC/ARCH/DESCEND</td>\n",
       "      <td>CTS</td>\n",
       "      <td>NaN</td>\n",
       "      <td>2022/09/22 22:55:00</td>\n",
       "      <td>NaN</td>\n",
       "      <td>NaN</td>\n",
       "      <td>...</td>\n",
       "      <td>0</td>\n",
       "      <td>NaN</td>\n",
       "      <td>NaN</td>\n",
       "      <td>NaN</td>\n",
       "      <td>NaN</td>\n",
       "      <td>NaN</td>\n",
       "      <td>NaN</td>\n",
       "      <td>321.0</td>\n",
       "      <td>NaN</td>\n",
       "      <td>NaN</td>\n",
       "    </tr>\n",
       "    <tr>\n",
       "      <th>362</th>\n",
       "      <td>T03-Theatre 3</td>\n",
       "      <td>Cardio-Thoracic Surgery</td>\n",
       "      <td>0</td>\n",
       "      <td>MHCT005</td>\n",
       "      <td>AORTIC REPAIR/REPLACE ASC/ARCH/DESCEND</td>\n",
       "      <td>CTS</td>\n",
       "      <td>NaN</td>\n",
       "      <td>2023/01/27 23:09:00</td>\n",
       "      <td>NaN</td>\n",
       "      <td>NaN</td>\n",
       "      <td>...</td>\n",
       "      <td>0</td>\n",
       "      <td>NaN</td>\n",
       "      <td>NaN</td>\n",
       "      <td>NaN</td>\n",
       "      <td>0.0</td>\n",
       "      <td>NaN</td>\n",
       "      <td>NaN</td>\n",
       "      <td>NaN</td>\n",
       "      <td>NaN</td>\n",
       "      <td>NaN</td>\n",
       "    </tr>\n",
       "    <tr>\n",
       "      <th>363</th>\n",
       "      <td>T03-Theatre 3</td>\n",
       "      <td>Cardio-Thoracic Surgery</td>\n",
       "      <td>0</td>\n",
       "      <td>MHCT005</td>\n",
       "      <td>AORTIC REPAIR/REPLACE ASC/ARCH/DESCEND</td>\n",
       "      <td>CTS</td>\n",
       "      <td>NaN</td>\n",
       "      <td>2023/03/13 18:24:00</td>\n",
       "      <td>2023/02/21</td>\n",
       "      <td>2023/03/07</td>\n",
       "      <td>...</td>\n",
       "      <td>125</td>\n",
       "      <td>55.0</td>\n",
       "      <td>NaN</td>\n",
       "      <td>NaN</td>\n",
       "      <td>NaN</td>\n",
       "      <td>NaN</td>\n",
       "      <td>NaN</td>\n",
       "      <td>381.0</td>\n",
       "      <td>36.0</td>\n",
       "      <td>646.0</td>\n",
       "    </tr>\n",
       "    <tr>\n",
       "      <th>...</th>\n",
       "      <td>...</td>\n",
       "      <td>...</td>\n",
       "      <td>...</td>\n",
       "      <td>...</td>\n",
       "      <td>...</td>\n",
       "      <td>...</td>\n",
       "      <td>...</td>\n",
       "      <td>...</td>\n",
       "      <td>...</td>\n",
       "      <td>...</td>\n",
       "      <td>...</td>\n",
       "      <td>...</td>\n",
       "      <td>...</td>\n",
       "      <td>...</td>\n",
       "      <td>...</td>\n",
       "      <td>...</td>\n",
       "      <td>...</td>\n",
       "      <td>...</td>\n",
       "      <td>...</td>\n",
       "      <td>...</td>\n",
       "      <td>...</td>\n",
       "    </tr>\n",
       "    <tr>\n",
       "      <th>3267</th>\n",
       "      <td>T04-Theatre 4</td>\n",
       "      <td>Cardio-Thoracic Surgery</td>\n",
       "      <td>1</td>\n",
       "      <td>MHCT018</td>\n",
       "      <td>AICD IMPLANT / REMOVAL</td>\n",
       "      <td>CTS</td>\n",
       "      <td>NaN</td>\n",
       "      <td>2020/09/22 16:52:00</td>\n",
       "      <td>2024/03/12</td>\n",
       "      <td>2024/04/09</td>\n",
       "      <td>...</td>\n",
       "      <td>301</td>\n",
       "      <td>39.0</td>\n",
       "      <td>205.0</td>\n",
       "      <td>NaN</td>\n",
       "      <td>110.0</td>\n",
       "      <td>95.0</td>\n",
       "      <td>18.0</td>\n",
       "      <td>290.0</td>\n",
       "      <td>28.0</td>\n",
       "      <td>NaN</td>\n",
       "    </tr>\n",
       "    <tr>\n",
       "      <th>3268</th>\n",
       "      <td>T04-Theatre 4</td>\n",
       "      <td>Cardio-Thoracic Surgery</td>\n",
       "      <td>1</td>\n",
       "      <td>MHCT018</td>\n",
       "      <td>AICD IMPLANT / REMOVAL</td>\n",
       "      <td>CTS</td>\n",
       "      <td>NaN</td>\n",
       "      <td>2020/11/11 20:59:00</td>\n",
       "      <td>NaN</td>\n",
       "      <td>NaN</td>\n",
       "      <td>...</td>\n",
       "      <td>0</td>\n",
       "      <td>26.0</td>\n",
       "      <td>215.0</td>\n",
       "      <td>NaN</td>\n",
       "      <td>153.0</td>\n",
       "      <td>62.0</td>\n",
       "      <td>13.0</td>\n",
       "      <td>291.0</td>\n",
       "      <td>37.0</td>\n",
       "      <td>NaN</td>\n",
       "    </tr>\n",
       "    <tr>\n",
       "      <th>3269</th>\n",
       "      <td>T04-Theatre 4</td>\n",
       "      <td>Cardio-Thoracic Surgery</td>\n",
       "      <td>1</td>\n",
       "      <td>MHCT018</td>\n",
       "      <td>AICD IMPLANT / REMOVAL</td>\n",
       "      <td>CTS</td>\n",
       "      <td>NaN</td>\n",
       "      <td>2022/02/18 07:35:00</td>\n",
       "      <td>NaN</td>\n",
       "      <td>NaN</td>\n",
       "      <td>...</td>\n",
       "      <td>148</td>\n",
       "      <td>NaN</td>\n",
       "      <td>138.0</td>\n",
       "      <td>NaN</td>\n",
       "      <td>NaN</td>\n",
       "      <td>NaN</td>\n",
       "      <td>21.0</td>\n",
       "      <td>199.0</td>\n",
       "      <td>NaN</td>\n",
       "      <td>91.0</td>\n",
       "    </tr>\n",
       "    <tr>\n",
       "      <th>3270</th>\n",
       "      <td>T04-Theatre 4</td>\n",
       "      <td>Cardio-Thoracic Surgery</td>\n",
       "      <td>1</td>\n",
       "      <td>MHCT018</td>\n",
       "      <td>AICD IMPLANT / REMOVAL</td>\n",
       "      <td>CTS</td>\n",
       "      <td>NaN</td>\n",
       "      <td>2023/05/31 20:27:00</td>\n",
       "      <td>NaN</td>\n",
       "      <td>NaN</td>\n",
       "      <td>...</td>\n",
       "      <td>7</td>\n",
       "      <td>30.0</td>\n",
       "      <td>145.0</td>\n",
       "      <td>NaN</td>\n",
       "      <td>76.0</td>\n",
       "      <td>69.0</td>\n",
       "      <td>NaN</td>\n",
       "      <td>NaN</td>\n",
       "      <td>39.0</td>\n",
       "      <td>NaN</td>\n",
       "    </tr>\n",
       "    <tr>\n",
       "      <th>3271</th>\n",
       "      <td>T04-Theatre 4</td>\n",
       "      <td>Cardio-Thoracic Surgery</td>\n",
       "      <td>1</td>\n",
       "      <td>MHCT018</td>\n",
       "      <td>AICD IMPLANT / REMOVAL</td>\n",
       "      <td>CTS</td>\n",
       "      <td>2018/07/09</td>\n",
       "      <td>2023/11/27 19:39:00</td>\n",
       "      <td>NaN</td>\n",
       "      <td>NaN</td>\n",
       "      <td>...</td>\n",
       "      <td>1968</td>\n",
       "      <td>26.0</td>\n",
       "      <td>94.0</td>\n",
       "      <td>NaN</td>\n",
       "      <td>51.0</td>\n",
       "      <td>43.0</td>\n",
       "      <td>14.0</td>\n",
       "      <td>162.0</td>\n",
       "      <td>28.0</td>\n",
       "      <td>NaN</td>\n",
       "    </tr>\n",
       "  </tbody>\n",
       "</table>\n",
       "<p>94 rows × 108 columns</p>\n",
       "</div>"
      ],
      "text/plain": [
       "            Theatre Specialty Description Mater  FirstPatientInTheatre  \\\n",
       "359   T03-Theatre 3     Cardio-Thoracic Surgery                      0   \n",
       "360   T03-Theatre 3     Cardio-Thoracic Surgery                      0   \n",
       "361   T03-Theatre 3     Cardio-Thoracic Surgery                      0   \n",
       "362   T03-Theatre 3     Cardio-Thoracic Surgery                      0   \n",
       "363   T03-Theatre 3     Cardio-Thoracic Surgery                      0   \n",
       "...             ...                         ...                    ...   \n",
       "3267  T04-Theatre 4     Cardio-Thoracic Surgery                      1   \n",
       "3268  T04-Theatre 4     Cardio-Thoracic Surgery                      1   \n",
       "3269  T04-Theatre 4     Cardio-Thoracic Surgery                      1   \n",
       "3270  T04-Theatre 4     Cardio-Thoracic Surgery                      1   \n",
       "3271  T04-Theatre 4     Cardio-Thoracic Surgery                      1   \n",
       "\n",
       "     ProcedureCode                    ProcedureDescription Consultant Name  \\\n",
       "359        MHCT005  AORTIC REPAIR/REPLACE ASC/ARCH/DESCEND             CTS   \n",
       "360        MHCT005  AORTIC REPAIR/REPLACE ASC/ARCH/DESCEND             CTS   \n",
       "361        MHCT005  AORTIC REPAIR/REPLACE ASC/ARCH/DESCEND             CTS   \n",
       "362        MHCT005  AORTIC REPAIR/REPLACE ASC/ARCH/DESCEND             CTS   \n",
       "363        MHCT005  AORTIC REPAIR/REPLACE ASC/ARCH/DESCEND             CTS   \n",
       "...            ...                                     ...             ...   \n",
       "3267       MHCT018                  AICD IMPLANT / REMOVAL             CTS   \n",
       "3268       MHCT018                  AICD IMPLANT / REMOVAL             CTS   \n",
       "3269       MHCT018                  AICD IMPLANT / REMOVAL             CTS   \n",
       "3270       MHCT018                  AICD IMPLANT / REMOVAL             CTS   \n",
       "3271       MHCT018                  AICD IMPLANT / REMOVAL             CTS   \n",
       "\n",
       "     WL Referral Date         Admission DT Referred PreOp Date  PreOp Date  \\\n",
       "359               NaN  2020/03/03 22:44:00                 NaN         NaN   \n",
       "360               NaN  2021/04/08 15:36:00          2021/02/16  2021/02/26   \n",
       "361               NaN  2022/09/22 22:55:00                 NaN         NaN   \n",
       "362               NaN  2023/01/27 23:09:00                 NaN         NaN   \n",
       "363               NaN  2023/03/13 18:24:00          2023/02/21  2023/03/07   \n",
       "...               ...                  ...                 ...         ...   \n",
       "3267              NaN  2020/09/22 16:52:00          2024/03/12  2024/04/09   \n",
       "3268              NaN  2020/11/11 20:59:00                 NaN         NaN   \n",
       "3269              NaN  2022/02/18 07:35:00                 NaN         NaN   \n",
       "3270              NaN  2023/05/31 20:27:00                 NaN         NaN   \n",
       "3271       2018/07/09  2023/11/27 19:39:00                 NaN         NaN   \n",
       "\n",
       "      ... Procedure Wait Time (Days) Average Anaes Journey Average  \\\n",
       "359   ...                                  0                   NaN   \n",
       "360   ...                                  0                   NaN   \n",
       "361   ...                                  0                   NaN   \n",
       "362   ...                                  0                   NaN   \n",
       "363   ...                                125                  55.0   \n",
       "...   ...                                ...                   ...   \n",
       "3267  ...                                301                  39.0   \n",
       "3268  ...                                  0                  26.0   \n",
       "3269  ...                                148                   NaN   \n",
       "3270  ...                                  7                  30.0   \n",
       "3271  ...                               1968                  26.0   \n",
       "\n",
       "     Consultant Journey Average Robot Journey Average Theatre Journey Average  \\\n",
       "359                         NaN                   NaN                     NaN   \n",
       "360                         NaN                   NaN                     NaN   \n",
       "361                         NaN                   NaN                     NaN   \n",
       "362                         NaN                   NaN                     0.0   \n",
       "363                         NaN                   NaN                     NaN   \n",
       "...                         ...                   ...                     ...   \n",
       "3267                      205.0                   NaN                   110.0   \n",
       "3268                      215.0                   NaN                   153.0   \n",
       "3269                      138.0                   NaN                     NaN   \n",
       "3270                      145.0                   NaN                    76.0   \n",
       "3271                       94.0                   NaN                    51.0   \n",
       "\n",
       "     PACU Journey Average Return to Ward Journey Average  \\\n",
       "359                   NaN                            NaN   \n",
       "360                   NaN                            NaN   \n",
       "361                   NaN                            NaN   \n",
       "362                   NaN                            NaN   \n",
       "363                   NaN                            NaN   \n",
       "...                   ...                            ...   \n",
       "3267                 95.0                           18.0   \n",
       "3268                 62.0                           13.0   \n",
       "3269                  NaN                           21.0   \n",
       "3270                 69.0                            NaN   \n",
       "3271                 43.0                           14.0   \n",
       "\n",
       "     Patient Journey Average Ward Journey Average Start Finish Journey  \n",
       "359                      NaN                  NaN                  NaN  \n",
       "360                      NaN                  NaN                  NaN  \n",
       "361                    321.0                  NaN                  NaN  \n",
       "362                      NaN                  NaN                  NaN  \n",
       "363                    381.0                 36.0                646.0  \n",
       "...                      ...                  ...                  ...  \n",
       "3267                   290.0                 28.0                  NaN  \n",
       "3268                   291.0                 37.0                  NaN  \n",
       "3269                   199.0                  NaN                 91.0  \n",
       "3270                     NaN                 39.0                  NaN  \n",
       "3271                   162.0                 28.0                  NaN  \n",
       "\n",
       "[94 rows x 108 columns]"
      ]
     },
     "execution_count": 75,
     "metadata": {},
     "output_type": "execute_result"
    }
   ],
   "source": [
    "# main.loc[(main['ProcedureDescription'] == cardiac_select[0]) | (main['ProcedureDescription'] == cardiac_select[1]) | (main['ProcedureDescription'] == cardiac_select[2])]"
   ]
  },
  {
   "cell_type": "code",
   "execution_count": 86,
   "id": "bf0c0965",
   "metadata": {},
   "outputs": [],
   "source": [
    "# Description of Cardiac with First Patient\n",
    "\n",
    "main_processed = main.loc[main['ProcedureDescription'].isin(cardiac_select)]\n",
    "main_processed = main_processed.loc[main_processed['FirstPatientInTheatre'] == 1]\n",
    "\n",
    "# print(pd.DataFrame(main_processed.iloc[:10, selected_columns]))\n",
    "\n",
    "\n",
    "## Late start\n",
    "\n",
    "main_processed['TheatreDay'] = pd.Categorical(main_processed['TheatreDay'], categories=['MON','TUE','WED','THU','FRI','SAT','SUN'], ordered=True)\n",
    "main_processed['Theatre Month'] = pd.Categorical(main_processed['Theatre Month'], categories=['January','February','March','April','May','June','July','August','September','October','November','December'], ordered=True)\n",
    "main_processed['Theatre Year'] = pd.Categorical(main_processed['Theatre Year'], categories=['2020','2021','2022','2023','2024'], ordered=True)"
   ]
  },
  {
   "cell_type": "code",
   "execution_count": 87,
   "id": "23a8e453",
   "metadata": {},
   "outputs": [
    {
     "name": "stdout",
     "output_type": "stream",
     "text": [
      "<class 'pandas.core.series.Series'>\n",
      "Index: 1823 entries, 11 to 3422\n",
      "Series name: InAnaesToDressingMins\n",
      "Non-Null Count  Dtype  \n",
      "--------------  -----  \n",
      "1469 non-null   float64\n",
      "dtypes: float64(1)\n",
      "memory usage: 28.5 KB\n",
      "None\n",
      "count    1469.000000\n",
      "mean     -363.092580\n",
      "std       116.199594\n",
      "min     -2022.000000\n",
      "25%      -409.000000\n",
      "50%      -360.000000\n",
      "75%      -308.000000\n",
      "max       438.000000\n",
      "Name: InAnaesToDressingMins, dtype: float64\n"
     ]
    },
    {
     "name": "stderr",
     "output_type": "stream",
     "text": [
      "C:\\Users\\User\\AppData\\Local\\Temp\\ipykernel_15160\\2904199180.py:12: SettingWithCopyWarning: \n",
      "A value is trying to be set on a copy of a slice from a DataFrame.\n",
      "Try using .loc[row_indexer,col_indexer] = value instead\n",
      "\n",
      "See the caveats in the documentation: https://pandas.pydata.org/pandas-docs/stable/user_guide/indexing.html#returning-a-view-versus-a-copy\n",
      "  cardiac_elective['InAnaesToDressingTime'] = cardiac_elective['In Anaesthetic Room DT'].apply(pd.Timestamp) - cardiac_elective['Dressing Applied DT'].apply(pd.Timestamp)\n",
      "C:\\Users\\User\\AppData\\Local\\Temp\\ipykernel_15160\\2904199180.py:13: SettingWithCopyWarning: \n",
      "A value is trying to be set on a copy of a slice from a DataFrame.\n",
      "Try using .loc[row_indexer,col_indexer] = value instead\n",
      "\n",
      "See the caveats in the documentation: https://pandas.pydata.org/pandas-docs/stable/user_guide/indexing.html#returning-a-view-versus-a-copy\n",
      "  cardiac_elective['InAnaesToDressingMins'] = cardiac_elective['InAnaesToDressingTime'].dt.total_seconds() / 60\n"
     ]
    }
   ],
   "source": [
    "# Description of Elective Cardiac\n",
    "\n",
    "cardiac = main.loc[main['ProcedureDescription'].isin(cardiac_select)]\n",
    "cardiac_elective = cardiac.loc[cardiac['EmergencyTMS'] == 'Elective']\n",
    "\n",
    "# ```{r tables-cardiacElective, echo=FALSE}\n",
    "# knitr::kable(cardiac_elective[1:10, !names(main) %in% c(\"PatientName\",\"EpisodeNumber\",\"MRN\",\"Theatre\",\"WL Referral Date\", \"Specialty Description Mater\",\"Consultant Name\")], caption = 'Table of **Elective Surgery** in *Cardiac Selected* data')\n",
    "# ```\n",
    "\n",
    "## Duration (mins) from \"Start Time - In Anaes Room\" to \"Dressing Time\"\n",
    "# Assuming 'cardiac_elective' is a pandas DataFrame\n",
    "cardiac_elective['InAnaesToDressingTime'] = cardiac_elective['In Anaesthetic Room DT'].apply(pd.Timestamp) - cardiac_elective['Dressing Applied DT'].apply(pd.Timestamp)\n",
    "cardiac_elective['InAnaesToDressingMins'] = cardiac_elective['InAnaesToDressingTime'].dt.total_seconds() / 60\n",
    "\n",
    "print(cardiac_elective['InAnaesToDressingMins'].info())\n",
    "print(cardiac_elective['InAnaesToDressingMins'].describe())"
   ]
  },
  {
   "cell_type": "code",
   "execution_count": null,
   "id": "a3904334",
   "metadata": {},
   "outputs": [],
   "source": [
    "# Nominal data\n",
    "\n",
    "## Data exploration\n",
    "\n",
    "def nominalVar(nominal, nominal_name):\n",
    "    print(sorted(set(nominal)))\n",
    "    \n",
    "    df_nominal = pd.DataFrame(nominal).value_counts().reset_index()\n",
    "    df_nominal.columns = [\"name\", \"freq\"]\n",
    "    print(f\"Table of frequency of {nominal_name}:\\n\")\n",
    "    print(df_nominal.sort_values(\"freq\", ascending=False))"
   ]
  },
  {
   "cell_type": "code",
   "execution_count": 88,
   "id": "267d04da",
   "metadata": {},
   "outputs": [],
   "source": [
    "def nominal_pareto(nominal, nominal_name):\n",
    "    df_nominal = pd.DataFrame(nominal).value_counts().reset_index()\n",
    "    df_nominal.columns = [\"nominalValue\", \"freq\"]\n",
    "    df_nominal['freq %'] = df_nominal['freq']/df_nominal['freq'].sum()\n",
    "      \n",
    "    xlim_df = len(df_nominal[\"nominalValue\"].unique())\n",
    "    ylim_df = df_nominal[\"freq\"].sum()\n",
    "    y80per = 80 * df_nominal[\"freq %\"].sum()\n",
    "    \n",
    "    fig, ax = plt.subplots(figsize=(12, 6))\n",
    "    ax2 = ax.twinx()\n",
    "    ax.plot(df_nominal[\"nominalValue\"], (df_nominal[\"freq\"].cumsum() / df_nominal[\"freq\"].sum())*100, color=\"red\")\n",
    "    sns.barplot(x=\"nominalValue\", y=\"freq\", data=df_nominal, palette=[\"blue\", \"lightblue\"], ax=ax2, \n",
    "                order=df_nominal.sort_values(\"freq\", ascending=False).nominalValue)\n",
    "    ax.axhline(y=y80per, color=\"darkblue\", linestyle=\"--\", linewidth=0.5)\n",
    "    ax.set_title(f\"{nominal_name} Pareto\")\n",
    "    ax.set_xlabel(nominal_name)\n",
    "    ax.set_ylabel(\"Cumulative Percent\")\n",
    "    ax.tick_params(axis='x', rotation=90, labelsize=7)\n",
    "    plt.savefig(f\"{nominal_name}_pareto.pdf\")\n",
    "    plt.show()"
   ]
  },
  {
   "cell_type": "code",
   "execution_count": null,
   "id": "ff93f55e",
   "metadata": {},
   "outputs": [],
   "source": [
    "def nominal_corNominal(nominal1, nominal1_name, nominal2, nominal2_name):\n",
    "    nominal1 = pd.Series(nominal1, name=nominal1_name)\n",
    "    nominal2 = pd.Series(nominal2, name=nominal2_name)\n",
    "    \n",
    "    contingency_table = pd.crosstab(nominal1, nominal2)\n",
    "    chi2, p_value, dof, expected = chi2_contingency(contingency_table)\n",
    "    \n",
    "    print(contingency_table)\n",
    "    print(f\"Chi-square statistic: {chi2:.2f}\")\n",
    "    print(f\"p-value: {p_value:.4f}\")"
   ]
  },
  {
   "cell_type": "code",
   "execution_count": 142,
   "id": "e4a810b3",
   "metadata": {},
   "outputs": [],
   "source": [
    "df_nominal = pd.DataFrame(main_processed['TheatreDay']).value_counts().reset_index()\n",
    "\n",
    "df_nominal.columns = [\"nominalValue\", \"freq\"]\n",
    "df_nominal['freq %'] = df_nominal['freq']/df_nominal['freq'].sum()"
   ]
  },
  {
   "cell_type": "code",
   "execution_count": 143,
   "id": "df8bcab0",
   "metadata": {},
   "outputs": [
    {
     "data": {
      "text/html": [
       "<div>\n",
       "<style scoped>\n",
       "    .dataframe tbody tr th:only-of-type {\n",
       "        vertical-align: middle;\n",
       "    }\n",
       "\n",
       "    .dataframe tbody tr th {\n",
       "        vertical-align: top;\n",
       "    }\n",
       "\n",
       "    .dataframe thead th {\n",
       "        text-align: right;\n",
       "    }\n",
       "</style>\n",
       "<table border=\"1\" class=\"dataframe\">\n",
       "  <thead>\n",
       "    <tr style=\"text-align: right;\">\n",
       "      <th></th>\n",
       "      <th>nominalValue</th>\n",
       "      <th>freq</th>\n",
       "      <th>freq %</th>\n",
       "    </tr>\n",
       "  </thead>\n",
       "  <tbody>\n",
       "    <tr>\n",
       "      <th>0</th>\n",
       "      <td>TUE</td>\n",
       "      <td>348</td>\n",
       "      <td>0.257969</td>\n",
       "    </tr>\n",
       "    <tr>\n",
       "      <th>1</th>\n",
       "      <td>FRI</td>\n",
       "      <td>319</td>\n",
       "      <td>0.236471</td>\n",
       "    </tr>\n",
       "    <tr>\n",
       "      <th>2</th>\n",
       "      <td>MON</td>\n",
       "      <td>269</td>\n",
       "      <td>0.199407</td>\n",
       "    </tr>\n",
       "    <tr>\n",
       "      <th>3</th>\n",
       "      <td>WED</td>\n",
       "      <td>210</td>\n",
       "      <td>0.155671</td>\n",
       "    </tr>\n",
       "    <tr>\n",
       "      <th>4</th>\n",
       "      <td>THU</td>\n",
       "      <td>131</td>\n",
       "      <td>0.097109</td>\n",
       "    </tr>\n",
       "    <tr>\n",
       "      <th>5</th>\n",
       "      <td>SAT</td>\n",
       "      <td>37</td>\n",
       "      <td>0.027428</td>\n",
       "    </tr>\n",
       "    <tr>\n",
       "      <th>6</th>\n",
       "      <td>SUN</td>\n",
       "      <td>35</td>\n",
       "      <td>0.025945</td>\n",
       "    </tr>\n",
       "  </tbody>\n",
       "</table>\n",
       "</div>"
      ],
      "text/plain": [
       "  nominalValue  freq    freq %\n",
       "0          TUE   348  0.257969\n",
       "1          FRI   319  0.236471\n",
       "2          MON   269  0.199407\n",
       "3          WED   210  0.155671\n",
       "4          THU   131  0.097109\n",
       "5          SAT    37  0.027428\n",
       "6          SUN    35  0.025945"
      ]
     },
     "execution_count": 143,
     "metadata": {},
     "output_type": "execute_result"
    }
   ],
   "source": [
    "df_nominal"
   ]
  },
  {
   "cell_type": "code",
   "execution_count": 138,
   "id": "7c1ef0d4",
   "metadata": {},
   "outputs": [
    {
     "data": {
      "text/plain": [
       "0    0.257969\n",
       "1    0.494440\n",
       "2    0.693847\n",
       "3    0.849518\n",
       "4    0.946627\n",
       "5    0.974055\n",
       "6    1.000000\n",
       "Name: freq, dtype: float64"
      ]
     },
     "execution_count": 138,
     "metadata": {},
     "output_type": "execute_result"
    }
   ],
   "source": [
    "df_nominal[\"freq\"].cumsum() / df_nominal[\"freq\"].sum()"
   ]
  },
  {
   "cell_type": "code",
   "execution_count": 185,
   "id": "a3a81f73",
   "metadata": {
    "scrolled": false
   },
   "outputs": [
    {
     "data": {
      "image/png": "[encoded data removed]",
      "text/plain": [
       "<Figure size 1200x600 with 2 Axes>"
      ]
     },
     "metadata": {},
     "output_type": "display_data"
    }
   ],
   "source": [
    "nominal_pareto(main_processed['TheatreDay'], \"Theatre Day\")"
   ]
  },
  {
   "cell_type": "code",
   "execution_count": 105,
   "id": "2a52065f",
   "metadata": {},
   "outputs": [
    {
     "name": "stdout",
     "output_type": "stream",
     "text": [
      "Theatre Day                                         MON  TUE  WED  THU  FRI  \\\n",
      "Procedure Description                                                         \n",
      "AICD IMPLANT / REMOVAL                                1    2    2    1    2   \n",
      "AORTIC REPAIR/REPLACE ASC/ARCH/DESCEND               12   11    8    8    7   \n",
      "AORTIC VALVE SURGERY                                 45   54   41   25   56   \n",
      "ASD                                                   7    1    2    0    2   \n",
      "CABG                                                148  228  120   78  197   \n",
      "Coronary artery bypass, using 1 LIMA graft            1    0    0    0    0   \n",
      "Extracorporeal membrane oxygenation [ECMO]            1    0    0    2    1   \n",
      "Insertion of left ventricular assist device           4    0    0    0    0   \n",
      "LUNG TRANSPLANT                                      11   13   10    5    8   \n",
      "MITRAL VALVE SURGERY                                 12   32   13    7   31   \n",
      "Other intrathoracic procedures on heart with cardi    2    0    0    0    0   \n",
      "PERICARDIAL WINDOW                                    1    1    2    1    5   \n",
      "PULMONARY VALVE SURGERY                               6    1    1    0    0   \n",
      "RE-STERNOTOMY                                         5    2    5    1    4   \n",
      "Removal of sternal wire                               1    1    0    0    0   \n",
      "TRICUSPID VALVE SURGERY                               2    1    4    2    3   \n",
      "VENTRICULAR ASSIST DEVICE                            10    1    2    1    3   \n",
      "\n",
      "Theatre Day                                         SAT  SUN  \n",
      "Procedure Description                                         \n",
      "AICD IMPLANT / REMOVAL                                0    0  \n",
      "AORTIC REPAIR/REPLACE ASC/ARCH/DESCEND                4    3  \n",
      "AORTIC VALVE SURGERY                                  1    5  \n",
      "ASD                                                   0    0  \n",
      "CABG                                                 13    7  \n",
      "Coronary artery bypass, using 1 LIMA graft            0    0  \n",
      "Extracorporeal membrane oxygenation [ECMO]            3    2  \n",
      "Insertion of left ventricular assist device           0    0  \n",
      "LUNG TRANSPLANT                                      12   13  \n",
      "MITRAL VALVE SURGERY                                  0    0  \n",
      "Other intrathoracic procedures on heart with cardi    0    0  \n",
      "PERICARDIAL WINDOW                                    3    3  \n",
      "PULMONARY VALVE SURGERY                               0    0  \n",
      "RE-STERNOTOMY                                         1    1  \n",
      "Removal of sternal wire                               0    0  \n",
      "TRICUSPID VALVE SURGERY                               0    0  \n",
      "VENTRICULAR ASSIST DEVICE                             0    1  \n",
      "Chi-square statistic: 345.06\n",
      "p-value: 0.0000\n"
     ]
    }
   ],
   "source": [
    "nominal_corNominal(main_processed['ProcedureDescription'], \"Procedure Description\", main_processed['TheatreDay'], \"Theatre Day\")"
   ]
  },
  {
   "cell_type": "code",
   "execution_count": 199,
   "id": "eac26a05",
   "metadata": {},
   "outputs": [],
   "source": [
    "def scale_norm(scale, scale_name, datetime=None):\n",
    "    if datetime is None:\n",
    "        datetime = cardiac_elective['Theatre Date']\n",
    "    datetime = pd.to_datetime(datetime, format=\"%d/%m/%Y\")  # datetime is Theatre date\n",
    "    np.random.seed(123)\n",
    "    df_scale = pd.DataFrame({'scale': scale, 'datetime': datetime})\n",
    "    df_scale = df_scale.dropna()\n",
    "    df_scale['year_month'] = df_scale['datetime'].dt.strftime('%Y-%m')\n",
    "    df_scale['year'] = df_scale['datetime'].dt.strftime('%Y')\n",
    "    df_scale['month'] = df_scale['datetime'].dt.strftime('%m')\n",
    "    df_scale['day'] = df_scale['datetime'].dt.day_name()\n",
    "    df_scale['year_month_day'] = df_scale['year_month'] + ' ' + df_scale['day']\n",
    "    print(df_scale.info())\n",
    "\n",
    "    # Histogram\n",
    "    bw = 2 * df_scale['scale'].std() / len(df_scale['scale']) ** (1/3)\n",
    "    min_hist = df_scale['scale'].min()\n",
    "    max_hist = df_scale['scale'].max()\n",
    "    print(f\"binwidth = {bw}\")\n",
    "    print(f\"Minimum of scale = {min_hist}\")\n",
    "    print(f\"Maximum of scale = {max_hist}\")\n",
    "\n",
    "    fig, ax = plt.subplots(figsize=(12, 8))\n",
    "    ax.hist(df_scale['scale'], bins=int(np.ceil((max(df_scale['scale']) - min(df_scale['scale'])) / bw)), \n",
    "        color=df_scale['month'].map(plt.get_cmap('tab10')), \n",
    "        edgecolor='white', alpha=0.7)\n",
    "\n",
    "    # Plot vertical lines for mean and median\n",
    "    for month in df_scale['month'].unique():\n",
    "        ax.axvline(df_scale.loc[df_scale['month'] == month, 'scale'].mean(), \n",
    "                   color=plt.get_cmap('tab10')(df_scale['month'].unique().tolist().index(month)), \n",
    "                   linestyle='dashed', linewidth=1)\n",
    "        ax.axvline(df_scale.loc[df_scale['month'] == month, 'scale'].median(), \n",
    "                   color=plt.get_cmap('tab10')(df_scale['month'].unique().tolist().index(month)), \n",
    "                   linestyle='dotted', linewidth=1)\n",
    "\n",
    "    # Plot density curves\n",
    "    for month in df_scale['month'].unique():\n",
    "        sns.kdeplot(df_scale.loc[df_scale['month'] == month, 'scale'], \n",
    "                    color=plt.get_cmap('tab10')(df_scale['month'].unique().tolist().index(month)), \n",
    "                    label=month, linewidth=1, alpha=0.5)\n",
    "\n",
    "    # Set labels and title\n",
    "    ax.set_xlabel(scale_name)\n",
    "    ax.set_ylabel('Freq')\n",
    "    ax.set_title(f'Monthly Distribution of {scale_name}')\n",
    "    ax.legend(loc='upper center')\n",
    "    ax.set_facecolor('white')\n",
    "    plt.show()"
   ]
  },
  {
   "cell_type": "code",
   "execution_count": 193,
   "id": "e7531064",
   "metadata": {},
   "outputs": [],
   "source": [
    "def scale_norm(scale, scale_name, datetime=None):\n",
    "    if datetime is None:\n",
    "        datetime = cardiac_elective['Theatre Date']\n",
    "    datetime = pd.to_datetime(datetime, format=\"%d/%m/%Y\")  # datetime is Theatre date\n",
    "    np.random.seed(123)\n",
    "    df_scale = pd.DataFrame({'scale': scale, 'datetime': datetime})\n",
    "    df_scale = df_scale.dropna()\n",
    "    df_scale['year_month'] = df_scale['datetime'].dt.strftime('%Y-%m')\n",
    "    df_scale['year'] = df_scale['datetime'].dt.strftime('%Y')\n",
    "    df_scale['month'] = df_scale['datetime'].dt.strftime('%m')\n",
    "    df_scale['day'] = df_scale['datetime'].dt.day_name()\n",
    "    df_scale['year_month_day'] = df_scale['year_month'] + ' ' + df_scale['day']\n",
    "    print(df_scale.info())\n",
    "\n",
    "    # Histogram\n",
    "    bw = 2 * df_scale['scale'].std() / len(df_scale['scale']) ** (1/3)\n",
    "    min_hist = df_scale['scale'].min()\n",
    "    max_hist = df_scale['scale'].max()\n",
    "    print(f\"binwidth = {bw}\")\n",
    "    print(f\"Minimum of scale = {min_hist}\")\n",
    "    print(f\"Maximum of scale = {max_hist}\")\n",
    "\n",
    "    fig, ax = plt.subplots(figsize=(10, 6))\n",
    "    sns.histplot(data=df_scale, x=\"scale\", binwidth=bw, color=\"gray\", alpha=0.7, ax=ax)\n",
    "    ax.plot(np.linspace(min_hist, max_hist, 100), \n",
    "            norm.pdf(np.linspace(min_hist, max_hist, 100), \n",
    "                          df_scale['scale'].mean(), df_scale['scale'].std()), \n",
    "            color=\"blue\", linewidth=2)\n",
    "    ax.axvline(df_scale['scale'].mean(), color=\"red\", linestyle=\"dashed\", linewidth=2)\n",
    "    ax.axvline(df_scale['scale'].median(), color=\"green\", linestyle=\"dotted\", linewidth=2)\n",
    "    sns.kdeplot(data=df_scale, x=\"scale\", color=\"red\", linewidth=2, alpha=0.5, ax=ax)\n",
    "    ax.set_xlabel(scale_name)\n",
    "    ax.set_ylabel(\"Frequency\")\n",
    "    ax.set_title(f\"Distribution of {scale_name}\")\n",
    "    plt.show()\n",
    "    \n",
    "    fig1, ax1 = plt.subplots(figsize=(12, 8))\n",
    "    ax1.hist(df_scale['scale'], bins=int(np.ceil((max(df_scale['scale']) - min(df_scale['scale'])) / bw)), \n",
    "        color=df_scale['month'].map(plt.get_cmap('tab10')), \n",
    "        edgecolor='white', alpha=0.7)\n",
    "\n",
    "    # Plot vertical lines for mean and median\n",
    "    for month in df_scale['month'].unique():\n",
    "        ax.axvline(df_scale.loc[df_scale['month'] == month, 'scale'].mean(), \n",
    "                   color=plt.get_cmap('tab10')(df_scale['month'].unique().tolist().index(month)), \n",
    "                   linestyle='dashed', linewidth=1)\n",
    "        ax.axvline(df_scale.loc[df_scale['month'] == month, 'scale'].median(), \n",
    "                   color=plt.get_cmap('tab10')(df_scale['month'].unique().tolist().index(month)), \n",
    "                   linestyle='dotted', linewidth=1)\n",
    "\n",
    "    # Plot density curves\n",
    "    for month in df_scale['month'].unique():\n",
    "        sns.kdeplot(df_scale.loc[df_scale['month'] == month, 'scale'], \n",
    "                    color=plt.get_cmap('tab10')(df_scale['month'].unique().tolist().index(month)), \n",
    "                    label=month, linewidth=1, alpha=0.5)\n",
    "\n",
    "    # Set labels and title\n",
    "    ax.set_xlabel(scale_name)\n",
    "    ax.set_ylabel('Freq')\n",
    "    ax.set_title(f'Monthly Distribution of {scale_name}')\n",
    "    ax.legend(loc='upper center')\n",
    "    ax.set_facecolor('white')\n",
    "    plt.show()\n",
    "\n",
    "    # Box plot\n",
    "    ## Box plot for year\n",
    "    df_scale_mutate_y = df_scale.groupby(\"year\")[\"scale\"].agg([\"mean\", \"median\"]).reset_index()\n",
    "    \n",
    "    fig, ax = plt.subplots(figsize=(10, 6))\n",
    "    sns.boxplot(x=\"year\", y=\"mean\", data=df_scale_mutate_y, palette=\"Set2\", ax=ax)\n",
    "    ax.scatter(df_scale_mutate_y[\"year\"], df_scale_mutate_y[\"mean\"], color=\"darkred\", s=50)\n",
    "    ax.set_xlabel(\"Year\")\n",
    "    ax.set_ylabel(f\"Mean of {scale_name}\")\n",
    "    ax.set_title(f\"Box plot of {scale_name} - average over years\")\n",
    "    \n",
    "    fig, ax = plt.subplots(figsize=(10, 6))\n",
    "    sns.boxplot(x=\"year\", y=\"median\", data=df_scale_mutate_y, palette=\"Set2\", ax=ax)\n",
    "    ax.scatter(df_scale_mutate_y[\"year\"], df_scale_mutate_y[\"median\"], color=\"darkred\", s=50)\n",
    "    ax.set_xlabel(\"Year\")\n",
    "    ax.set_ylabel(f\"Median of {scale_name}\")\n",
    "    ax.set_title(f\"Box plot of {scale_name} - median over years\")\n",
    "    \n",
    "    plt.xticks(rotation=90)\n",
    "    plt.show()\n",
    "    \n",
    "    ## Box plot for month\n",
    "    df_scale_mutate_m = (df_scale\n",
    "        .groupby(\"month\")\n",
    "        .agg(mean_gr=(\"scale\", \"mean\"), median_gr=(\"scale\", \"median\"))\n",
    "        .reset_index()\n",
    "    )\n",
    "    print(df_scale_mutate_m.head())\n",
    "\n",
    "    bxp_mean_m = (sns.boxplot(x=\"month\", y=\"mean_gr\", data=df_scale_mutate_m, palette=\"Set3\")\n",
    "        .set_title(f\"Box plot of {scale_name} - average over months\")\n",
    "        .set(xlabel=None, ylabel=None))\n",
    "    \n",
    "    bxp_median_m = (sns.boxplot(x=\"month\", y=\"median_gr\", data=df_scale_mutate_m, palette=\"Set3\")\n",
    "        .set_title(f\"Box plot of {scale_name} - median over months\")\n",
    "        .set(xlabel=None, ylabel=None))\n",
    "\n",
    "    plt.xticks(rotation=90)\n",
    "    plt.show()\n",
    "    \n",
    "    ## Box plot for year & month\n",
    "    df_scale_mutate_ym = (\n",
    "        df_scale\n",
    "        .groupby('year_month')\n",
    "        .agg(mean_gr=('scale', 'mean'), median_gr=('scale', 'median'))\n",
    "        .reset_index()\n",
    ")\n",
    "\n",
    "    print(df_scale_mutate_ym.head())\n",
    "\n",
    "    bxp_mean_ym = (\n",
    "        sns.boxplot(x='year_month', y='mean_gr', data=df_scale_mutate_ym, palette=\"Set2\")\n",
    "        .set_title(f\"Box plot of {scale_name} as average over year_month\")\n",
    "        .set(xlabel=None, ylabel=None)\n",
    "    )\n",
    "    \n",
    "    bxp_median_ym = (\n",
    "        sns.boxplot(x='year_month', y='median_gr', data=df_scale_mutate_ym, palette=\"Set2\")\n",
    "        .set_title(f\"Box plot of {scale_name} as median over year_month\")\n",
    "        .set(xlabel=None, ylabel=None)\n",
    "    )\n",
    "    \n",
    "    plt.xticks(rotation=90)\n",
    "    plt.show()\n",
    "    \n",
    "    # QQplot\n",
    "    ## For year\n",
    "    qq_mean_y = sns.qqplot(df_scale_mutate_y['mean_gr'])\n",
    "    plt.title(f\"{scale_name} QQ plot average over years\")\n",
    "    \n",
    "    qq_median_y = sns.qqplot(df_scale_mutate_y['median_gr'])\n",
    "    plt.title(f\"{scale_name} QQ plot median over years\")\n",
    "    \n",
    "    ## For month\n",
    "    qq_mean_m = sns.qqplot(df_scale_mutate_m['mean_gr'])\n",
    "    plt.title(f\"{scale_name} QQ plot average over months\")\n",
    "    \n",
    "    qq_median_m = sns.qqplot(df_scale_mutate_m['median_gr'])\n",
    "    plt.title(f\"{scale_name} QQ plot average over months\")\n",
    "    \n",
    "    ## For year & month\n",
    "    qq_mean_ym = sns.qqplot(df_scale_mutate_ym['mean_gr'])\n",
    "    plt.title(f\"{scale_name} QQ plot average over year_month\")\n",
    "    \n",
    "    qq_median_ym = sns.qqplot(df_scale_mutate_ym['median_gr'])\n",
    "    plt.title(f\"{scale_name} QQ plot average over year_month\")\n",
    "\n",
    "    plt.show()\n",
    "    \n",
    "    # Normality test\n",
    "    df_scaleNorm = df_scale['scale']\n",
    "    shapiro_result = shapiro(df_scaleNorm)\n",
    "\n",
    "    print(shapiro_result)"
   ]
  },
  {
   "cell_type": "code",
   "execution_count": 200,
   "id": "1562afbc",
   "metadata": {
    "scrolled": true
   },
   "outputs": [
    {
     "name": "stdout",
     "output_type": "stream",
     "text": [
      "<class 'pandas.core.frame.DataFrame'>\n",
      "Index: 1469 entries, 11 to 3422\n",
      "Data columns (total 7 columns):\n",
      " #   Column          Non-Null Count  Dtype         \n",
      "---  ------          --------------  -----         \n",
      " 0   scale           1469 non-null   float64       \n",
      " 1   datetime        1469 non-null   datetime64[ns]\n",
      " 2   year_month      1469 non-null   object        \n",
      " 3   year            1469 non-null   object        \n",
      " 4   month           1469 non-null   object        \n",
      " 5   day             1469 non-null   object        \n",
      " 6   year_month_day  1469 non-null   object        \n",
      "dtypes: datetime64[ns](1), float64(1), object(5)\n",
      "memory usage: 91.8+ KB\n",
      "None\n",
      "binwidth = 20.4437553152796\n",
      "Minimum of scale = -2022.0\n",
      "Maximum of scale = 438.0\n"
     ]
    },
    {
     "ename": "TypeError",
     "evalue": "ufunc 'isnan' not supported for the input types, and the inputs could not be safely coerced to any supported types according to the casting rule ''safe''",
     "output_type": "error",
     "traceback": [
      "\u001b[1;31m---------------------------------------------------------------------------\u001b[0m",
      "\u001b[1;31mTypeError\u001b[0m                                 Traceback (most recent call last)",
      "Cell \u001b[1;32mIn[200], line 1\u001b[0m\n\u001b[1;32m----> 1\u001b[0m scale_norm(cardiac_elective[\u001b[38;5;124m'\u001b[39m\u001b[38;5;124mInAnaesToDressingMins\u001b[39m\u001b[38;5;124m'\u001b[39m], \u001b[38;5;124m\"\u001b[39m\u001b[38;5;124mFrom In Anaes Room To Dressing Applied (mins)\u001b[39m\u001b[38;5;124m\"\u001b[39m)\n",
      "Cell \u001b[1;32mIn[199], line 25\u001b[0m, in \u001b[0;36mscale_norm\u001b[1;34m(scale, scale_name, datetime)\u001b[0m\n\u001b[0;32m     21\u001b[0m \u001b[38;5;28mprint\u001b[39m(\u001b[38;5;124mf\u001b[39m\u001b[38;5;124m\"\u001b[39m\u001b[38;5;124mMaximum of scale = \u001b[39m\u001b[38;5;132;01m{\u001b[39;00mmax_hist\u001b[38;5;132;01m}\u001b[39;00m\u001b[38;5;124m\"\u001b[39m)\n\u001b[0;32m     23\u001b[0m fig, ax \u001b[38;5;241m=\u001b[39m plt\u001b[38;5;241m.\u001b[39msubplots(figsize\u001b[38;5;241m=\u001b[39m(\u001b[38;5;241m12\u001b[39m, \u001b[38;5;241m8\u001b[39m))\n\u001b[0;32m     24\u001b[0m ax\u001b[38;5;241m.\u001b[39mhist(df_scale[\u001b[38;5;124m'\u001b[39m\u001b[38;5;124mscale\u001b[39m\u001b[38;5;124m'\u001b[39m], bins\u001b[38;5;241m=\u001b[39m\u001b[38;5;28mint\u001b[39m(np\u001b[38;5;241m.\u001b[39mceil((\u001b[38;5;28mmax\u001b[39m(df_scale[\u001b[38;5;124m'\u001b[39m\u001b[38;5;124mscale\u001b[39m\u001b[38;5;124m'\u001b[39m]) \u001b[38;5;241m-\u001b[39m \u001b[38;5;28mmin\u001b[39m(df_scale[\u001b[38;5;124m'\u001b[39m\u001b[38;5;124mscale\u001b[39m\u001b[38;5;124m'\u001b[39m])) \u001b[38;5;241m/\u001b[39m bw)), \n\u001b[1;32m---> 25\u001b[0m     color\u001b[38;5;241m=\u001b[39mdf_scale[\u001b[38;5;124m'\u001b[39m\u001b[38;5;124mmonth\u001b[39m\u001b[38;5;124m'\u001b[39m]\u001b[38;5;241m.\u001b[39mmap(plt\u001b[38;5;241m.\u001b[39mget_cmap(\u001b[38;5;124m'\u001b[39m\u001b[38;5;124mtab10\u001b[39m\u001b[38;5;124m'\u001b[39m)), \n\u001b[0;32m     26\u001b[0m     edgecolor\u001b[38;5;241m=\u001b[39m\u001b[38;5;124m'\u001b[39m\u001b[38;5;124mwhite\u001b[39m\u001b[38;5;124m'\u001b[39m, alpha\u001b[38;5;241m=\u001b[39m\u001b[38;5;241m0.7\u001b[39m)\n\u001b[0;32m     28\u001b[0m \u001b[38;5;66;03m# Plot vertical lines for mean and median\u001b[39;00m\n\u001b[0;32m     29\u001b[0m \u001b[38;5;28;01mfor\u001b[39;00m month \u001b[38;5;129;01min\u001b[39;00m df_scale[\u001b[38;5;124m'\u001b[39m\u001b[38;5;124mmonth\u001b[39m\u001b[38;5;124m'\u001b[39m]\u001b[38;5;241m.\u001b[39munique():\n",
      "File \u001b[1;32m~\\anaconda3\\Lib\\site-packages\\pandas\\core\\series.py:4397\u001b[0m, in \u001b[0;36mSeries.map\u001b[1;34m(self, arg, na_action)\u001b[0m\n\u001b[0;32m   4318\u001b[0m \u001b[38;5;28;01mdef\u001b[39;00m \u001b[38;5;21mmap\u001b[39m(\n\u001b[0;32m   4319\u001b[0m     \u001b[38;5;28mself\u001b[39m,\n\u001b[0;32m   4320\u001b[0m     arg: Callable \u001b[38;5;241m|\u001b[39m Mapping \u001b[38;5;241m|\u001b[39m Series,\n\u001b[0;32m   4321\u001b[0m     na_action: Literal[\u001b[38;5;124m\"\u001b[39m\u001b[38;5;124mignore\u001b[39m\u001b[38;5;124m\"\u001b[39m] \u001b[38;5;241m|\u001b[39m \u001b[38;5;28;01mNone\u001b[39;00m \u001b[38;5;241m=\u001b[39m \u001b[38;5;28;01mNone\u001b[39;00m,\n\u001b[0;32m   4322\u001b[0m ) \u001b[38;5;241m-\u001b[39m\u001b[38;5;241m>\u001b[39m Series:\n\u001b[0;32m   4323\u001b[0m \u001b[38;5;250m    \u001b[39m\u001b[38;5;124;03m\"\"\"\u001b[39;00m\n\u001b[0;32m   4324\u001b[0m \u001b[38;5;124;03m    Map values of Series according to an input mapping or function.\u001b[39;00m\n\u001b[0;32m   4325\u001b[0m \n\u001b[1;32m   (...)\u001b[0m\n\u001b[0;32m   4395\u001b[0m \u001b[38;5;124;03m    dtype: object\u001b[39;00m\n\u001b[0;32m   4396\u001b[0m \u001b[38;5;124;03m    \"\"\"\u001b[39;00m\n\u001b[1;32m-> 4397\u001b[0m     new_values \u001b[38;5;241m=\u001b[39m \u001b[38;5;28mself\u001b[39m\u001b[38;5;241m.\u001b[39m_map_values(arg, na_action\u001b[38;5;241m=\u001b[39mna_action)\n\u001b[0;32m   4398\u001b[0m     \u001b[38;5;28;01mreturn\u001b[39;00m \u001b[38;5;28mself\u001b[39m\u001b[38;5;241m.\u001b[39m_constructor(new_values, index\u001b[38;5;241m=\u001b[39m\u001b[38;5;28mself\u001b[39m\u001b[38;5;241m.\u001b[39mindex, copy\u001b[38;5;241m=\u001b[39m\u001b[38;5;28;01mFalse\u001b[39;00m)\u001b[38;5;241m.\u001b[39m__finalize__(\n\u001b[0;32m   4399\u001b[0m         \u001b[38;5;28mself\u001b[39m, method\u001b[38;5;241m=\u001b[39m\u001b[38;5;124m\"\u001b[39m\u001b[38;5;124mmap\u001b[39m\u001b[38;5;124m\"\u001b[39m\n\u001b[0;32m   4400\u001b[0m     )\n",
      "File \u001b[1;32m~\\anaconda3\\Lib\\site-packages\\pandas\\core\\base.py:924\u001b[0m, in \u001b[0;36mIndexOpsMixin._map_values\u001b[1;34m(self, mapper, na_action)\u001b[0m\n\u001b[0;32m    921\u001b[0m         \u001b[38;5;28;01mraise\u001b[39;00m \u001b[38;5;167;01mValueError\u001b[39;00m(msg)\n\u001b[0;32m    923\u001b[0m \u001b[38;5;66;03m# mapper is a function\u001b[39;00m\n\u001b[1;32m--> 924\u001b[0m new_values \u001b[38;5;241m=\u001b[39m map_f(values, mapper)\n\u001b[0;32m    926\u001b[0m \u001b[38;5;28;01mreturn\u001b[39;00m new_values\n",
      "File \u001b[1;32m~\\anaconda3\\Lib\\site-packages\\pandas\\_libs\\lib.pyx:2834\u001b[0m, in \u001b[0;36mpandas._libs.lib.map_infer\u001b[1;34m()\u001b[0m\n",
      "File \u001b[1;32m~\\anaconda3\\Lib\\site-packages\\matplotlib\\colors.py:714\u001b[0m, in \u001b[0;36mColormap.__call__\u001b[1;34m(self, X, alpha, bytes)\u001b[0m\n\u001b[0;32m    712\u001b[0m xa \u001b[38;5;241m=\u001b[39m np\u001b[38;5;241m.\u001b[39marray(X, copy\u001b[38;5;241m=\u001b[39m\u001b[38;5;28;01mTrue\u001b[39;00m)\n\u001b[0;32m    713\u001b[0m \u001b[38;5;28;01mif\u001b[39;00m mask_bad \u001b[38;5;129;01mis\u001b[39;00m \u001b[38;5;28;01mNone\u001b[39;00m:\n\u001b[1;32m--> 714\u001b[0m     mask_bad \u001b[38;5;241m=\u001b[39m np\u001b[38;5;241m.\u001b[39misnan(xa)\n\u001b[0;32m    715\u001b[0m \u001b[38;5;28;01mif\u001b[39;00m \u001b[38;5;129;01mnot\u001b[39;00m xa\u001b[38;5;241m.\u001b[39mdtype\u001b[38;5;241m.\u001b[39misnative:\n\u001b[0;32m    716\u001b[0m     xa \u001b[38;5;241m=\u001b[39m xa\u001b[38;5;241m.\u001b[39mbyteswap()\u001b[38;5;241m.\u001b[39mnewbyteorder()  \u001b[38;5;66;03m# Native byteorder is faster.\u001b[39;00m\n",
      "\u001b[1;31mTypeError\u001b[0m: ufunc 'isnan' not supported for the input types, and the inputs could not be safely coerced to any supported types according to the casting rule ''safe''"
     ]
    },
    {
     "data": {
      "image/png": "[encoded data removed]",
      "text/plain": [
       "<Figure size 1200x800 with 1 Axes>"
      ]
     },
     "metadata": {},
     "output_type": "display_data"
    }
   ],
   "source": [
    "scale_norm(cardiac_elective['InAnaesToDressingMins'], \"From In Anaes Room To Dressing Applied (mins)\")"
   ]
  },
  {
   "cell_type": "code",
   "execution_count": 203,
   "id": "58a0aa6e",
   "metadata": {},
   "outputs": [],
   "source": [
    "def scale_corNominal(scale, scale_name, nominal, nominal_name):\n",
    "    df_scaleNominal = pd.DataFrame({'scale': scale, 'nominal': nominal})\n",
    "    df_scaleNominal = df_scaleNominal.dropna()\n",
    "\n",
    "    # Statistical test (nominal and scale)\n",
    "    bt = bartlett(df_scaleNominal['scale'], df_scaleNominal['nominal'])\n",
    "    print(bt)\n",
    "    if bt.pvalue > 0.05 or bt.pvalue == 0.05:\n",
    "        model = ols('scale ~ C(nominal)', data=df_scaleNominal).fit()\n",
    "        print(model.summary())\n",
    "    else:\n",
    "        mc = MultiComparison(df_scaleNominal['scale'], df_scaleNominal['nominal'])\n",
    "        dunn_result = mc.allpairtest(method='bonferroni')\n",
    "        print(dunn_result)\n",
    "        "
   ]
  },
  {
   "cell_type": "code",
   "execution_count": 216,
   "id": "b9b0272e",
   "metadata": {},
   "outputs": [
    {
     "name": "stdout",
     "output_type": "stream",
     "text": [
      "Theatre                               category\n",
      "Specialty Description Mater           category\n",
      "FirstPatientInTheatre                    int64\n",
      "ProcedureCode                         category\n",
      "ProcedureDescription                  category\n",
      "                                    ...       \n",
      "Patient Journey Average                float64\n",
      "Ward Journey Average                   float64\n",
      "Start Finish Journey                   float64\n",
      "InAnaesToDressingTime          timedelta64[ns]\n",
      "InAnaesToDressingMins                  float64\n",
      "Length: 110, dtype: object\n",
      "category\n",
      "float64\n"
     ]
    }
   ],
   "source": [
    "print(cardiac_elective.dtypes)\n",
    "print(cardiac_elective['TheatreDay'].dtype)\n",
    "print(cardiac_elective['InAnaesToDressingMins'].dtype)"
   ]
  },
  {
   "cell_type": "code",
   "execution_count": 204,
   "id": "1aefaadd",
   "metadata": {},
   "outputs": [
    {
     "ename": "TypeError",
     "evalue": "'Categorical' with dtype category does not support reduction 'var'",
     "output_type": "error",
     "traceback": [
      "\u001b[1;31m---------------------------------------------------------------------------\u001b[0m",
      "\u001b[1;31mTypeError\u001b[0m                                 Traceback (most recent call last)",
      "Cell \u001b[1;32mIn[204], line 1\u001b[0m\n\u001b[1;32m----> 1\u001b[0m scale_corNominal(cardiac_elective[\u001b[38;5;124m'\u001b[39m\u001b[38;5;124mInAnaesToDressingMins\u001b[39m\u001b[38;5;124m'\u001b[39m], \u001b[38;5;124m\"\u001b[39m\u001b[38;5;124mTime From \u001b[39m\u001b[38;5;124m'\u001b[39m\u001b[38;5;124mIn Anaes\u001b[39m\u001b[38;5;124m'\u001b[39m\u001b[38;5;124m To \u001b[39m\u001b[38;5;124m'\u001b[39m\u001b[38;5;124mDressing Applied\u001b[39m\u001b[38;5;124m'\u001b[39m\u001b[38;5;124m (mins)\u001b[39m\u001b[38;5;124m\"\u001b[39m, cardiac_elective[\u001b[38;5;124m'\u001b[39m\u001b[38;5;124mTheatreDay\u001b[39m\u001b[38;5;124m'\u001b[39m], \u001b[38;5;124m\"\u001b[39m\u001b[38;5;124mTheatre Day\u001b[39m\u001b[38;5;124m\"\u001b[39m)\n",
      "Cell \u001b[1;32mIn[203], line 6\u001b[0m, in \u001b[0;36mscale_corNominal\u001b[1;34m(scale, scale_name, nominal, nominal_name)\u001b[0m\n\u001b[0;32m      3\u001b[0m df_scaleNominal \u001b[38;5;241m=\u001b[39m df_scaleNominal\u001b[38;5;241m.\u001b[39mdropna()\n\u001b[0;32m      5\u001b[0m \u001b[38;5;66;03m# Statistical test (nominal and scale)\u001b[39;00m\n\u001b[1;32m----> 6\u001b[0m bt \u001b[38;5;241m=\u001b[39m bartlett(df_scaleNominal[\u001b[38;5;124m'\u001b[39m\u001b[38;5;124mscale\u001b[39m\u001b[38;5;124m'\u001b[39m], df_scaleNominal[\u001b[38;5;124m'\u001b[39m\u001b[38;5;124mnominal\u001b[39m\u001b[38;5;124m'\u001b[39m])\n\u001b[0;32m      7\u001b[0m \u001b[38;5;28mprint\u001b[39m(bt)\n\u001b[0;32m      8\u001b[0m \u001b[38;5;28;01mif\u001b[39;00m bt\u001b[38;5;241m.\u001b[39mpvalue \u001b[38;5;241m>\u001b[39m \u001b[38;5;241m0.05\u001b[39m \u001b[38;5;129;01mor\u001b[39;00m bt\u001b[38;5;241m.\u001b[39mpvalue \u001b[38;5;241m==\u001b[39m \u001b[38;5;241m0.05\u001b[39m:\n",
      "File \u001b[1;32m~\\anaconda3\\Lib\\site-packages\\scipy\\stats\\_morestats.py:2898\u001b[0m, in \u001b[0;36mbartlett\u001b[1;34m(*samples)\u001b[0m\n\u001b[0;32m   2896\u001b[0m \u001b[38;5;28;01mfor\u001b[39;00m j \u001b[38;5;129;01min\u001b[39;00m \u001b[38;5;28mrange\u001b[39m(k):\n\u001b[0;32m   2897\u001b[0m     Ni[j] \u001b[38;5;241m=\u001b[39m \u001b[38;5;28mlen\u001b[39m(samples[j])\n\u001b[1;32m-> 2898\u001b[0m     ssq[j] \u001b[38;5;241m=\u001b[39m np\u001b[38;5;241m.\u001b[39mvar(samples[j], ddof\u001b[38;5;241m=\u001b[39m\u001b[38;5;241m1\u001b[39m)\n\u001b[0;32m   2899\u001b[0m Ntot \u001b[38;5;241m=\u001b[39m np\u001b[38;5;241m.\u001b[39msum(Ni, axis\u001b[38;5;241m=\u001b[39m\u001b[38;5;241m0\u001b[39m)\n\u001b[0;32m   2900\u001b[0m spsq \u001b[38;5;241m=\u001b[39m np\u001b[38;5;241m.\u001b[39msum((Ni \u001b[38;5;241m-\u001b[39m \u001b[38;5;241m1\u001b[39m)\u001b[38;5;241m*\u001b[39mssq, axis\u001b[38;5;241m=\u001b[39m\u001b[38;5;241m0\u001b[39m) \u001b[38;5;241m/\u001b[39m (\u001b[38;5;241m1.0\u001b[39m\u001b[38;5;241m*\u001b[39m(Ntot \u001b[38;5;241m-\u001b[39m k))\n",
      "File \u001b[1;32m<__array_function__ internals>:200\u001b[0m, in \u001b[0;36mvar\u001b[1;34m(*args, **kwargs)\u001b[0m\n",
      "File \u001b[1;32m~\\anaconda3\\Lib\\site-packages\\numpy\\core\\fromnumeric.py:3745\u001b[0m, in \u001b[0;36mvar\u001b[1;34m(a, axis, dtype, out, ddof, keepdims, where)\u001b[0m\n\u001b[0;32m   3743\u001b[0m         \u001b[38;5;28;01mpass\u001b[39;00m\n\u001b[0;32m   3744\u001b[0m     \u001b[38;5;28;01melse\u001b[39;00m:\n\u001b[1;32m-> 3745\u001b[0m         \u001b[38;5;28;01mreturn\u001b[39;00m var(axis\u001b[38;5;241m=\u001b[39maxis, dtype\u001b[38;5;241m=\u001b[39mdtype, out\u001b[38;5;241m=\u001b[39mout, ddof\u001b[38;5;241m=\u001b[39mddof, \u001b[38;5;241m*\u001b[39m\u001b[38;5;241m*\u001b[39mkwargs)\n\u001b[0;32m   3747\u001b[0m \u001b[38;5;28;01mreturn\u001b[39;00m _methods\u001b[38;5;241m.\u001b[39m_var(a, axis\u001b[38;5;241m=\u001b[39maxis, dtype\u001b[38;5;241m=\u001b[39mdtype, out\u001b[38;5;241m=\u001b[39mout, ddof\u001b[38;5;241m=\u001b[39mddof,\n\u001b[0;32m   3748\u001b[0m                      \u001b[38;5;241m*\u001b[39m\u001b[38;5;241m*\u001b[39mkwargs)\n",
      "File \u001b[1;32m~\\anaconda3\\Lib\\site-packages\\pandas\\core\\generic.py:11401\u001b[0m, in \u001b[0;36mNDFrame._add_numeric_operations.<locals>.var\u001b[1;34m(self, axis, skipna, ddof, numeric_only, **kwargs)\u001b[0m\n\u001b[0;32m  11383\u001b[0m \u001b[38;5;129m@doc\u001b[39m(\n\u001b[0;32m  11384\u001b[0m     _num_ddof_doc,\n\u001b[0;32m  11385\u001b[0m     desc\u001b[38;5;241m=\u001b[39m\u001b[38;5;124m\"\u001b[39m\u001b[38;5;124mReturn unbiased variance over requested axis.\u001b[39m\u001b[38;5;130;01m\\n\u001b[39;00m\u001b[38;5;130;01m\\n\u001b[39;00m\u001b[38;5;124mNormalized by \u001b[39m\u001b[38;5;124m\"\u001b[39m\n\u001b[1;32m   (...)\u001b[0m\n\u001b[0;32m  11399\u001b[0m     \u001b[38;5;241m*\u001b[39m\u001b[38;5;241m*\u001b[39mkwargs,\n\u001b[0;32m  11400\u001b[0m ):\n\u001b[1;32m> 11401\u001b[0m     \u001b[38;5;28;01mreturn\u001b[39;00m NDFrame\u001b[38;5;241m.\u001b[39mvar(\u001b[38;5;28mself\u001b[39m, axis, skipna, ddof, numeric_only, \u001b[38;5;241m*\u001b[39m\u001b[38;5;241m*\u001b[39mkwargs)\n",
      "File \u001b[1;32m~\\anaconda3\\Lib\\site-packages\\pandas\\core\\generic.py:11125\u001b[0m, in \u001b[0;36mNDFrame.var\u001b[1;34m(self, axis, skipna, ddof, numeric_only, **kwargs)\u001b[0m\n\u001b[0;32m  11117\u001b[0m \u001b[38;5;28;01mdef\u001b[39;00m \u001b[38;5;21mvar\u001b[39m(\n\u001b[0;32m  11118\u001b[0m     \u001b[38;5;28mself\u001b[39m,\n\u001b[0;32m  11119\u001b[0m     axis: Axis \u001b[38;5;241m|\u001b[39m \u001b[38;5;28;01mNone\u001b[39;00m \u001b[38;5;241m=\u001b[39m \u001b[38;5;28;01mNone\u001b[39;00m,\n\u001b[1;32m   (...)\u001b[0m\n\u001b[0;32m  11123\u001b[0m     \u001b[38;5;241m*\u001b[39m\u001b[38;5;241m*\u001b[39mkwargs,\n\u001b[0;32m  11124\u001b[0m ) \u001b[38;5;241m-\u001b[39m\u001b[38;5;241m>\u001b[39m Series \u001b[38;5;241m|\u001b[39m \u001b[38;5;28mfloat\u001b[39m:\n\u001b[1;32m> 11125\u001b[0m     \u001b[38;5;28;01mreturn\u001b[39;00m \u001b[38;5;28mself\u001b[39m\u001b[38;5;241m.\u001b[39m_stat_function_ddof(\n\u001b[0;32m  11126\u001b[0m         \u001b[38;5;124m\"\u001b[39m\u001b[38;5;124mvar\u001b[39m\u001b[38;5;124m\"\u001b[39m, nanops\u001b[38;5;241m.\u001b[39mnanvar, axis, skipna, ddof, numeric_only, \u001b[38;5;241m*\u001b[39m\u001b[38;5;241m*\u001b[39mkwargs\n\u001b[0;32m  11127\u001b[0m     )\n",
      "File \u001b[1;32m~\\anaconda3\\Lib\\site-packages\\pandas\\core\\generic.py:11101\u001b[0m, in \u001b[0;36mNDFrame._stat_function_ddof\u001b[1;34m(self, name, func, axis, skipna, ddof, numeric_only, **kwargs)\u001b[0m\n\u001b[0;32m  11098\u001b[0m \u001b[38;5;28;01mif\u001b[39;00m axis \u001b[38;5;129;01mis\u001b[39;00m \u001b[38;5;28;01mNone\u001b[39;00m:\n\u001b[0;32m  11099\u001b[0m     axis \u001b[38;5;241m=\u001b[39m \u001b[38;5;28mself\u001b[39m\u001b[38;5;241m.\u001b[39m_stat_axis_number\n\u001b[1;32m> 11101\u001b[0m \u001b[38;5;28;01mreturn\u001b[39;00m \u001b[38;5;28mself\u001b[39m\u001b[38;5;241m.\u001b[39m_reduce(\n\u001b[0;32m  11102\u001b[0m     func, name, axis\u001b[38;5;241m=\u001b[39maxis, numeric_only\u001b[38;5;241m=\u001b[39mnumeric_only, skipna\u001b[38;5;241m=\u001b[39mskipna, ddof\u001b[38;5;241m=\u001b[39mddof\n\u001b[0;32m  11103\u001b[0m )\n",
      "File \u001b[1;32m~\\anaconda3\\Lib\\site-packages\\pandas\\core\\series.py:4656\u001b[0m, in \u001b[0;36mSeries._reduce\u001b[1;34m(self, op, name, axis, skipna, numeric_only, filter_type, **kwds)\u001b[0m\n\u001b[0;32m   4652\u001b[0m     \u001b[38;5;28mself\u001b[39m\u001b[38;5;241m.\u001b[39m_get_axis_number(axis)\n\u001b[0;32m   4654\u001b[0m \u001b[38;5;28;01mif\u001b[39;00m \u001b[38;5;28misinstance\u001b[39m(delegate, ExtensionArray):\n\u001b[0;32m   4655\u001b[0m     \u001b[38;5;66;03m# dispatch to ExtensionArray interface\u001b[39;00m\n\u001b[1;32m-> 4656\u001b[0m     \u001b[38;5;28;01mreturn\u001b[39;00m delegate\u001b[38;5;241m.\u001b[39m_reduce(name, skipna\u001b[38;5;241m=\u001b[39mskipna, \u001b[38;5;241m*\u001b[39m\u001b[38;5;241m*\u001b[39mkwds)\n\u001b[0;32m   4658\u001b[0m \u001b[38;5;28;01melse\u001b[39;00m:\n\u001b[0;32m   4659\u001b[0m     \u001b[38;5;66;03m# dispatch to numpy arrays\u001b[39;00m\n\u001b[0;32m   4660\u001b[0m     \u001b[38;5;28;01mif\u001b[39;00m numeric_only \u001b[38;5;129;01mand\u001b[39;00m \u001b[38;5;129;01mnot\u001b[39;00m is_numeric_dtype(\u001b[38;5;28mself\u001b[39m\u001b[38;5;241m.\u001b[39mdtype):\n",
      "File \u001b[1;32m~\\anaconda3\\Lib\\site-packages\\pandas\\core\\arrays\\base.py:1440\u001b[0m, in \u001b[0;36mExtensionArray._reduce\u001b[1;34m(self, name, skipna, **kwargs)\u001b[0m\n\u001b[0;32m   1438\u001b[0m meth \u001b[38;5;241m=\u001b[39m \u001b[38;5;28mgetattr\u001b[39m(\u001b[38;5;28mself\u001b[39m, name, \u001b[38;5;28;01mNone\u001b[39;00m)\n\u001b[0;32m   1439\u001b[0m \u001b[38;5;28;01mif\u001b[39;00m meth \u001b[38;5;129;01mis\u001b[39;00m \u001b[38;5;28;01mNone\u001b[39;00m:\n\u001b[1;32m-> 1440\u001b[0m     \u001b[38;5;28;01mraise\u001b[39;00m \u001b[38;5;167;01mTypeError\u001b[39;00m(\n\u001b[0;32m   1441\u001b[0m         \u001b[38;5;124mf\u001b[39m\u001b[38;5;124m\"\u001b[39m\u001b[38;5;124m'\u001b[39m\u001b[38;5;132;01m{\u001b[39;00m\u001b[38;5;28mtype\u001b[39m(\u001b[38;5;28mself\u001b[39m)\u001b[38;5;241m.\u001b[39m\u001b[38;5;18m__name__\u001b[39m\u001b[38;5;132;01m}\u001b[39;00m\u001b[38;5;124m'\u001b[39m\u001b[38;5;124m with dtype \u001b[39m\u001b[38;5;132;01m{\u001b[39;00m\u001b[38;5;28mself\u001b[39m\u001b[38;5;241m.\u001b[39mdtype\u001b[38;5;132;01m}\u001b[39;00m\u001b[38;5;124m \u001b[39m\u001b[38;5;124m\"\u001b[39m\n\u001b[0;32m   1442\u001b[0m         \u001b[38;5;124mf\u001b[39m\u001b[38;5;124m\"\u001b[39m\u001b[38;5;124mdoes not support reduction \u001b[39m\u001b[38;5;124m'\u001b[39m\u001b[38;5;132;01m{\u001b[39;00mname\u001b[38;5;132;01m}\u001b[39;00m\u001b[38;5;124m'\u001b[39m\u001b[38;5;124m\"\u001b[39m\n\u001b[0;32m   1443\u001b[0m     )\n\u001b[0;32m   1444\u001b[0m \u001b[38;5;28;01mreturn\u001b[39;00m meth(skipna\u001b[38;5;241m=\u001b[39mskipna, \u001b[38;5;241m*\u001b[39m\u001b[38;5;241m*\u001b[39mkwargs)\n",
      "\u001b[1;31mTypeError\u001b[0m: 'Categorical' with dtype category does not support reduction 'var'"
     ]
    }
   ],
   "source": [
    "scale_corNominal(cardiac_elective['InAnaesToDressingMins'], \"Time From 'In Anaes' To 'Dressing Applied' (mins)\", cardiac_elective['TheatreDay'], \"Theatre Day\")"
   ]
  },
  {
   "cell_type": "code",
   "execution_count": 205,
   "id": "6c288e20",
   "metadata": {},
   "outputs": [],
   "source": [
    "def scale_corBinary(scale, scale_name, binary, binary_name):\n",
    "    df_scaleBinary = pd.DataFrame({'scale': scale, 'binary': binary})\n",
    "    \n",
    "    # Statistical test (binary and scale)\n",
    "    bt = bartlett(df_scaleBinary['scale'], df_scaleBinary['binary'])\n",
    "    print(bt)\n",
    "    if bt.pvalue > 0.05 or bt.pvalue == 0.05:\n",
    "        ttest_equal = ttest_ind(df_scaleBinary['scale'], df_scaleBinary['binary'], equal_var=True)\n",
    "        print(ttest_equal)\n",
    "    else:\n",
    "        ttest_notequal = ttest_ind(df_scaleBinary['scale'], df_scaleBinary['binary'], equal_var=False)\n",
    "        print(ttest_notequal)"
   ]
  },
  {
   "cell_type": "code",
   "execution_count": 208,
   "id": "a6c5dce8",
   "metadata": {},
   "outputs": [
    {
     "name": "stdout",
     "output_type": "stream",
     "text": [
      "BartlettResult(statistic=17472.929337773407, pvalue=0.0)\n",
      "TtestResult(statistic=nan, pvalue=nan, df=nan)\n"
     ]
    }
   ],
   "source": [
    "# test\n",
    "scale_corBinary(cardiac_elective['InAnaesToDressingMins'], \"In Anaes To Dressing Applied (mins)\", cardiac_elective['FirstPatientInTheatre'], \"First Patient\")"
   ]
  },
  {
   "cell_type": "code",
   "execution_count": 209,
   "id": "c2930f4e",
   "metadata": {},
   "outputs": [],
   "source": [
    "def scale_corOrdinal(scale, scale_name, ordinal, ordinal_name):\n",
    "    df_scaleOrdinal = pd.DataFrame({'scaleValue': scale, 'ordinalValue': ordinal})\n",
    "    \n",
    "    # Correlation matrix\n",
    "    df_scaleOrdinal = df_scaleOrdinal.apply(pd.to_numeric, errors='ignore')\n",
    "    corr_test = df_scaleOrdinal.corr(method='spearman')\n",
    "    print(corr_test)\n",
    "    \n",
    "    corr = df_scaleOrdinal.corr(method='spearman')\n",
    "    print(corr)"
   ]
  },
  {
   "cell_type": "code",
   "execution_count": null,
   "id": "c27077b4",
   "metadata": {},
   "outputs": [],
   "source": []
  },
  {
   "cell_type": "code",
   "execution_count": 213,
   "id": "ca7d57fa",
   "metadata": {},
   "outputs": [],
   "source": [
    "def scale_corScale(scale1=None, scale_name1=None, scale2=None, scale_name2=None, scale3=None, scale_name3=None, scale4=None, scale_name4=None, scale5=None, scale_name5=None, scale6=None, scale_name6=None):\n",
    "    df_scale = pd.DataFrame({\n",
    "        scale_name1: scale1,\n",
    "        scale_name2: scale2,\n",
    "        scale_name3: scale3,\n",
    "        scale_name4: scale4,\n",
    "        scale_name5: scale5,\n",
    "        scale_name6: scale6\n",
    "    })\n",
    "    \n",
    "    # Convert factors to numeric\n",
    "    df_scale = df_scale.apply(pd.to_numeric, errors='ignore')\n",
    "    \n",
    "    # Correlation matrix\n",
    "    corr_matrix = df_scale.corr(method='pearson')\n",
    "    \n",
    "    # Plot correlation matrix\n",
    "    plt.figure(figsize=(10, 8))\n",
    "    plt.matshow(corr_matrix, cmap='coolwarm')\n",
    "    plt.colorbar()\n",
    "    plt.title('Correlation Matrix')\n",
    "    plt.xticks(range(len(corr_matrix.columns)), corr_matrix.columns, rotation='vertical')\n",
    "    plt.yticks(range(len(corr_matrix.columns)), corr_matrix.columns)\n",
    "    plt.show()"
   ]
  },
  {
   "cell_type": "code",
   "execution_count": 214,
   "id": "36e19c2b",
   "metadata": {},
   "outputs": [
    {
     "data": {
      "text/plain": [
       "<Figure size 1000x800 with 0 Axes>"
      ]
     },
     "metadata": {},
     "output_type": "display_data"
    },
    {
     "data": {
      "image/png": "[encoded data removed]",
      "text/plain": [
       "<Figure size 480x480 with 2 Axes>"
      ]
     },
     "metadata": {},
     "output_type": "display_data"
    }
   ],
   "source": [
    "scale_corScale(cardiac_elective['Procedure Wait Time (Days)'], \"Procedure Wait (days)\", cardiac_elective['InOpTheatre to PaintDrape (Mins) Ave Drape Yes'], \"In Theatre to Paint Drape\", cardiac_elective['Theatre Wait (Mins) Ave Inst to skin and op Yes'], \"Theatre Wait - Inst to skin and Op (mins)\", cardiac_elective['PaintDrape to InstrToSkin (Mins) Ave Skin Yes'], \"Paint Drape to Inst to skin (mins)\", cardiac_elective['InstrToSkin to DressAppl (Mins) Ave Dressing Yes'], \"Inst to skin to Dressing Applied (mins)\", cardiac_elective['Theatre Readmission Days'], \"Theatre Readmission (days)\")\n",
    "            "
   ]
  }
 ],
 "metadata": {
  "celltoolbar": "Raw Cell Format",
  "kernelspec": {
   "display_name": "Python 3 (ipykernel)",
   "language": "python",
   "name": "python3"
  },
  "language_info": {
   "codemirror_mode": {
    "name": "ipython",
    "version": 3
   },
   "file_extension": ".py",
   "mimetype": "text/x-python",
   "name": "python",
   "nbconvert_exporter": "python",
   "pygments_lexer": "ipython3",
   "version": "3.11.5"
  }
 },
 "nbformat": 4,
 "nbformat_minor": 5
}
